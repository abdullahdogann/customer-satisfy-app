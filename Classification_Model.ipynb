{
 "cells": [
  {
   "cell_type": "code",
   "execution_count": 1,
   "id": "365a80d7",
   "metadata": {},
   "outputs": [],
   "source": [
    "from psycopg2 import connect\n",
    "from psycopg2.extensions import ISOLATION_LEVEL_AUTOCOMMIT\n",
    "import pandas as pd\n",
    "import numpy as np\n",
    "import datetime\n",
    "import warnings\n",
    "import matplotlib.pyplot as plt\n",
    "warnings.filterwarnings(\"ignore\") \n",
    "import seaborn as sns"
   ]
  },
  {
   "cell_type": "code",
   "execution_count": 2,
   "id": "be241d93",
   "metadata": {},
   "outputs": [],
   "source": [
    "params = {\n",
    "    'host': 'localhost',\n",
    "    'user': 'postgres',\n",
    "    'port' : 5432,\n",
    "    'password': 'A1'\n",
    "}\n",
    "connection = connect(**params, dbname='etrate')"
   ]
  },
  {
   "cell_type": "code",
   "execution_count": 3,
   "id": "7c0644ca",
   "metadata": {},
   "outputs": [
    {
     "data": {
      "text/html": [
       "<div>\n",
       "<style scoped>\n",
       "    .dataframe tbody tr th:only-of-type {\n",
       "        vertical-align: middle;\n",
       "    }\n",
       "\n",
       "    .dataframe tbody tr th {\n",
       "        vertical-align: top;\n",
       "    }\n",
       "\n",
       "    .dataframe thead th {\n",
       "        text-align: right;\n",
       "    }\n",
       "</style>\n",
       "<table border=\"1\" class=\"dataframe\">\n",
       "  <thead>\n",
       "    <tr style=\"text-align: right;\">\n",
       "      <th></th>\n",
       "      <th>order_status</th>\n",
       "      <th>payment_type</th>\n",
       "      <th>order_purchase_timestamp</th>\n",
       "      <th>order_approved_at</th>\n",
       "      <th>order_delivered_carrier_date</th>\n",
       "      <th>order_delivered_customer_date</th>\n",
       "      <th>order_estimated_delivery_date</th>\n",
       "      <th>review_score</th>\n",
       "      <th>price</th>\n",
       "      <th>freight_value</th>\n",
       "      <th>product_category_name</th>\n",
       "      <th>product_photos_qty</th>\n",
       "      <th>seller_zip_code_prefix</th>\n",
       "    </tr>\n",
       "  </thead>\n",
       "  <tbody>\n",
       "    <tr>\n",
       "      <th>0</th>\n",
       "      <td>delivered</td>\n",
       "      <td>credit_card</td>\n",
       "      <td>2017-11-24 19:19:18</td>\n",
       "      <td>2017-11-24 22:38:47</td>\n",
       "      <td>2017-11-27 12:42:15</td>\n",
       "      <td>2017-12-22 18:37:40</td>\n",
       "      <td>2017-12-14 00:00:00</td>\n",
       "      <td>2</td>\n",
       "      <td>99.00</td>\n",
       "      <td>13.71</td>\n",
       "      <td>cama_mesa_banho</td>\n",
       "      <td>1.0</td>\n",
       "      <td>14940</td>\n",
       "    </tr>\n",
       "    <tr>\n",
       "      <th>1</th>\n",
       "      <td>delivered</td>\n",
       "      <td>credit_card</td>\n",
       "      <td>2017-05-14 17:19:44</td>\n",
       "      <td>2017-05-14 17:35:11</td>\n",
       "      <td>2017-05-24 15:45:01</td>\n",
       "      <td>2017-05-26 13:14:50</td>\n",
       "      <td>2017-05-24 00:00:00</td>\n",
       "      <td>1</td>\n",
       "      <td>18.99</td>\n",
       "      <td>7.78</td>\n",
       "      <td>beleza_saude</td>\n",
       "      <td>3.0</td>\n",
       "      <td>1031</td>\n",
       "    </tr>\n",
       "    <tr>\n",
       "      <th>2</th>\n",
       "      <td>delivered</td>\n",
       "      <td>credit_card</td>\n",
       "      <td>2017-05-14 17:19:44</td>\n",
       "      <td>2017-05-14 17:35:11</td>\n",
       "      <td>2017-05-24 15:45:01</td>\n",
       "      <td>2017-05-26 13:14:50</td>\n",
       "      <td>2017-05-24 00:00:00</td>\n",
       "      <td>1</td>\n",
       "      <td>18.99</td>\n",
       "      <td>7.78</td>\n",
       "      <td>beleza_saude</td>\n",
       "      <td>3.0</td>\n",
       "      <td>1031</td>\n",
       "    </tr>\n",
       "    <tr>\n",
       "      <th>3</th>\n",
       "      <td>delivered</td>\n",
       "      <td>credit_card</td>\n",
       "      <td>2018-05-08 21:45:54</td>\n",
       "      <td>2018-05-08 22:14:46</td>\n",
       "      <td>2018-05-09 13:51:00</td>\n",
       "      <td>2018-05-30 19:38:36</td>\n",
       "      <td>2018-06-05 00:00:00</td>\n",
       "      <td>5</td>\n",
       "      <td>149.90</td>\n",
       "      <td>43.11</td>\n",
       "      <td>bebes</td>\n",
       "      <td>2.0</td>\n",
       "      <td>14960</td>\n",
       "    </tr>\n",
       "    <tr>\n",
       "      <th>4</th>\n",
       "      <td>delivered</td>\n",
       "      <td>boleto</td>\n",
       "      <td>2017-11-19 19:16:07</td>\n",
       "      <td>2017-11-21 03:47:23</td>\n",
       "      <td>2017-11-21 23:21:31</td>\n",
       "      <td>2017-11-27 18:54:09</td>\n",
       "      <td>2017-12-08 00:00:00</td>\n",
       "      <td>3</td>\n",
       "      <td>155.00</td>\n",
       "      <td>14.84</td>\n",
       "      <td>perfumaria</td>\n",
       "      <td>1.0</td>\n",
       "      <td>13030</td>\n",
       "    </tr>\n",
       "    <tr>\n",
       "      <th>...</th>\n",
       "      <td>...</td>\n",
       "      <td>...</td>\n",
       "      <td>...</td>\n",
       "      <td>...</td>\n",
       "      <td>...</td>\n",
       "      <td>...</td>\n",
       "      <td>...</td>\n",
       "      <td>...</td>\n",
       "      <td>...</td>\n",
       "      <td>...</td>\n",
       "      <td>...</td>\n",
       "      <td>...</td>\n",
       "      <td>...</td>\n",
       "    </tr>\n",
       "    <tr>\n",
       "      <th>117324</th>\n",
       "      <td>delivered</td>\n",
       "      <td>credit_card</td>\n",
       "      <td>2017-11-09 17:54:37</td>\n",
       "      <td>2017-11-09 18:10:34</td>\n",
       "      <td>2017-11-13 19:28:35</td>\n",
       "      <td>2017-11-22 00:48:47</td>\n",
       "      <td>2017-11-30 00:00:00</td>\n",
       "      <td>3</td>\n",
       "      <td>38.90</td>\n",
       "      <td>14.08</td>\n",
       "      <td>utilidades_domesticas</td>\n",
       "      <td>5.0</td>\n",
       "      <td>37708</td>\n",
       "    </tr>\n",
       "    <tr>\n",
       "      <th>117325</th>\n",
       "      <td>delivered</td>\n",
       "      <td>credit_card</td>\n",
       "      <td>2017-07-20 17:32:31</td>\n",
       "      <td>2017-07-20 17:45:20</td>\n",
       "      <td>2017-07-24 20:47:43</td>\n",
       "      <td>2017-07-30 12:42:02</td>\n",
       "      <td>2017-08-11 00:00:00</td>\n",
       "      <td>5</td>\n",
       "      <td>49.90</td>\n",
       "      <td>20.84</td>\n",
       "      <td>None</td>\n",
       "      <td>NaN</td>\n",
       "      <td>35400</td>\n",
       "    </tr>\n",
       "    <tr>\n",
       "      <th>117326</th>\n",
       "      <td>delivered</td>\n",
       "      <td>credit_card</td>\n",
       "      <td>2017-07-20 17:32:31</td>\n",
       "      <td>2017-07-20 17:45:20</td>\n",
       "      <td>2017-07-24 20:47:43</td>\n",
       "      <td>2017-07-30 12:42:02</td>\n",
       "      <td>2017-08-11 00:00:00</td>\n",
       "      <td>5</td>\n",
       "      <td>49.90</td>\n",
       "      <td>20.84</td>\n",
       "      <td>None</td>\n",
       "      <td>NaN</td>\n",
       "      <td>35400</td>\n",
       "    </tr>\n",
       "    <tr>\n",
       "      <th>117327</th>\n",
       "      <td>delivered</td>\n",
       "      <td>credit_card</td>\n",
       "      <td>2018-05-15 11:59:32</td>\n",
       "      <td>2018-05-15 12:31:36</td>\n",
       "      <td>2018-05-22 10:18:00</td>\n",
       "      <td>2018-06-12 19:32:19</td>\n",
       "      <td>2018-06-08 00:00:00</td>\n",
       "      <td>3</td>\n",
       "      <td>120.00</td>\n",
       "      <td>27.39</td>\n",
       "      <td>bebes</td>\n",
       "      <td>1.0</td>\n",
       "      <td>78095</td>\n",
       "    </tr>\n",
       "    <tr>\n",
       "      <th>117328</th>\n",
       "      <td>delivered</td>\n",
       "      <td>boleto</td>\n",
       "      <td>2017-06-03 21:20:21</td>\n",
       "      <td>2017-06-06 13:23:24</td>\n",
       "      <td>2017-06-07 13:23:18</td>\n",
       "      <td>2017-06-12 12:04:33</td>\n",
       "      <td>2017-06-28 00:00:00</td>\n",
       "      <td>4</td>\n",
       "      <td>31.90</td>\n",
       "      <td>16.79</td>\n",
       "      <td>informatica_acessorios</td>\n",
       "      <td>2.0</td>\n",
       "      <td>31255</td>\n",
       "    </tr>\n",
       "  </tbody>\n",
       "</table>\n",
       "<p>117329 rows × 13 columns</p>\n",
       "</div>"
      ],
      "text/plain": [
       "       order_status payment_type order_purchase_timestamp    order_approved_at order_delivered_carrier_date order_delivered_customer_date order_estimated_delivery_date  review_score   price  freight_value   product_category_name  product_photos_qty  seller_zip_code_prefix\n",
       "0         delivered  credit_card      2017-11-24 19:19:18  2017-11-24 22:38:47          2017-11-27 12:42:15           2017-12-22 18:37:40           2017-12-14 00:00:00             2   99.00          13.71         cama_mesa_banho                 1.0                   14940\n",
       "1         delivered  credit_card      2017-05-14 17:19:44  2017-05-14 17:35:11          2017-05-24 15:45:01           2017-05-26 13:14:50           2017-05-24 00:00:00             1   18.99           7.78            beleza_saude                 3.0                    1031\n",
       "2         delivered  credit_card      2017-05-14 17:19:44  2017-05-14 17:35:11          2017-05-24 15:45:01           2017-05-26 13:14:50           2017-05-24 00:00:00             1   18.99           7.78            beleza_saude                 3.0                    1031\n",
       "3         delivered  credit_card      2018-05-08 21:45:54  2018-05-08 22:14:46          2018-05-09 13:51:00           2018-05-30 19:38:36           2018-06-05 00:00:00             5  149.90          43.11                   bebes                 2.0                   14960\n",
       "4         delivered       boleto      2017-11-19 19:16:07  2017-11-21 03:47:23          2017-11-21 23:21:31           2017-11-27 18:54:09           2017-12-08 00:00:00             3  155.00          14.84              perfumaria                 1.0                   13030\n",
       "...             ...          ...                      ...                  ...                          ...                           ...                           ...           ...     ...            ...                     ...                 ...                     ...\n",
       "117324    delivered  credit_card      2017-11-09 17:54:37  2017-11-09 18:10:34          2017-11-13 19:28:35           2017-11-22 00:48:47           2017-11-30 00:00:00             3   38.90          14.08   utilidades_domesticas                 5.0                   37708\n",
       "117325    delivered  credit_card      2017-07-20 17:32:31  2017-07-20 17:45:20          2017-07-24 20:47:43           2017-07-30 12:42:02           2017-08-11 00:00:00             5   49.90          20.84                    None                 NaN                   35400\n",
       "117326    delivered  credit_card      2017-07-20 17:32:31  2017-07-20 17:45:20          2017-07-24 20:47:43           2017-07-30 12:42:02           2017-08-11 00:00:00             5   49.90          20.84                    None                 NaN                   35400\n",
       "117327    delivered  credit_card      2018-05-15 11:59:32  2018-05-15 12:31:36          2018-05-22 10:18:00           2018-06-12 19:32:19           2018-06-08 00:00:00             3  120.00          27.39                   bebes                 1.0                   78095\n",
       "117328    delivered       boleto      2017-06-03 21:20:21  2017-06-06 13:23:24          2017-06-07 13:23:18           2017-06-12 12:04:33           2017-06-28 00:00:00             4   31.90          16.79  informatica_acessorios                 2.0                   31255\n",
       "\n",
       "[117329 rows x 13 columns]"
      ]
     },
     "execution_count": 3,
     "metadata": {},
     "output_type": "execute_result"
    }
   ],
   "source": [
    "dataFrame = pd.read_sql('''\n",
    "                        select o.order_status, op.payment_type, o.order_purchase_timestamp, \n",
    "                        o.order_approved_at, o.order_delivered_carrier_date, \n",
    "                        o.order_delivered_customer_date, o.order_estimated_delivery_date,\n",
    "                        order_reviews.review_score, order_items.price, order_items.freight_value,\n",
    "                        products.product_category_name, products.product_photos_qty,\n",
    "                        sellers.seller_zip_code_prefix\n",
    "                        from orders o inner join order_payments op on o.order_id = op.order_id\n",
    "                        inner join order_reviews on o.order_id=order_reviews.order_id\n",
    "                        inner join order_items on o.order_id=order_items.order_id\n",
    "                        inner join sellers on order_items.seller_id=sellers.seller_id\n",
    "                        inner join products on order_items.product_id=products.product_id''', \n",
    "                        connection)\n",
    "pd.set_option('display.expand_frame_repr', False)\n",
    "dataFrame"
   ]
  },
  {
   "cell_type": "code",
   "execution_count": 4,
   "id": "bbe31949",
   "metadata": {},
   "outputs": [
    {
     "name": "stdout",
     "output_type": "stream",
     "text": [
      "<class 'pandas.core.frame.DataFrame'>\n",
      "RangeIndex: 117329 entries, 0 to 117328\n",
      "Data columns (total 13 columns):\n",
      " #   Column                         Non-Null Count   Dtype  \n",
      "---  ------                         --------------   -----  \n",
      " 0   order_status                   117329 non-null  object \n",
      " 1   payment_type                   117329 non-null  object \n",
      " 2   order_purchase_timestamp       117329 non-null  object \n",
      " 3   order_approved_at              117314 non-null  object \n",
      " 4   order_delivered_carrier_date   116094 non-null  object \n",
      " 5   order_delivered_customer_date  114858 non-null  object \n",
      " 6   order_estimated_delivery_date  117329 non-null  object \n",
      " 7   review_score                   117329 non-null  int64  \n",
      " 8   price                          117329 non-null  float64\n",
      " 9   freight_value                  117329 non-null  float64\n",
      " 10  product_category_name          115634 non-null  object \n",
      " 11  product_photos_qty             115634 non-null  float64\n",
      " 12  seller_zip_code_prefix         117329 non-null  int64  \n",
      "dtypes: float64(3), int64(2), object(8)\n",
      "memory usage: 11.6+ MB\n"
     ]
    }
   ],
   "source": [
    "dataFrame.info()"
   ]
  },
  {
   "cell_type": "markdown",
   "id": "1a4fb108",
   "metadata": {},
   "source": [
    "## Data Preprocessing"
   ]
  },
  {
   "cell_type": "code",
   "execution_count": 5,
   "id": "eb6fd93e",
   "metadata": {},
   "outputs": [],
   "source": [
    "dataFrame = dataFrame.dropna(how = 'any')"
   ]
  },
  {
   "cell_type": "code",
   "execution_count": 6,
   "id": "d6cdabe0",
   "metadata": {},
   "outputs": [],
   "source": [
    "dataFrame = pd.get_dummies(dataFrame,columns=['order_status'])\n",
    "dataFrame = pd.get_dummies(dataFrame,columns=['payment_type'])"
   ]
  },
  {
   "cell_type": "code",
   "execution_count": 7,
   "id": "fef7752b",
   "metadata": {},
   "outputs": [],
   "source": [
    "dataFrame['order_purchase_timestamp'] =  pd.to_datetime(dataFrame['order_purchase_timestamp'], infer_datetime_format=True)\n",
    "dataFrame['order_approved_at'] =  pd.to_datetime(dataFrame['order_approved_at'], infer_datetime_format=True)\n",
    "dataFrame['order_delivered_carrier_date'] =  pd.to_datetime(dataFrame['order_delivered_carrier_date'], infer_datetime_format=True)\n",
    "dataFrame['order_delivered_customer_date'] =  pd.to_datetime(dataFrame['order_delivered_customer_date'], infer_datetime_format=True)\n",
    "dataFrame['order_estimated_delivery_date'] =  pd.to_datetime(dataFrame['order_estimated_delivery_date'], infer_datetime_format=True)"
   ]
  },
  {
   "cell_type": "code",
   "execution_count": 8,
   "id": "c73f731b",
   "metadata": {},
   "outputs": [],
   "source": [
    "# Feature Engineering"
   ]
  },
  {
   "cell_type": "code",
   "execution_count": 9,
   "id": "55c30537",
   "metadata": {},
   "outputs": [],
   "source": [
    "dataFrame['different_between_approved_purchase'] = round((dataFrame['order_approved_at']- dataFrame['order_purchase_timestamp'])/ pd.Timedelta(hours=1),2)"
   ]
  },
  {
   "cell_type": "code",
   "execution_count": 10,
   "id": "c8c5e626",
   "metadata": {},
   "outputs": [],
   "source": [
    "dataFrame.drop('order_approved_at', axis = 1, inplace = True)\n",
    "dataFrame.drop('order_purchase_timestamp', axis = 1, inplace = True)"
   ]
  },
  {
   "cell_type": "code",
   "execution_count": 11,
   "id": "f7135367",
   "metadata": {},
   "outputs": [],
   "source": [
    "def time_different(x):\n",
    "    if x<1:\n",
    "        return 1\n",
    "    elif  x>=1 and x<5:\n",
    "        return 2\n",
    "    elif x>=5 and x<10:\n",
    "        return 3\n",
    "    elif x>=10 and x<20:\n",
    "        return 4\n",
    "    elif x>=20 and x<30:\n",
    "        return 5\n",
    "    elif x>=30 and x<40:\n",
    "        return 6\n",
    "    elif x>=40 and x<50:\n",
    "        return 7\n",
    "    else:\n",
    "        return 8\n",
    "    "
   ]
  },
  {
   "cell_type": "code",
   "execution_count": 12,
   "id": "e846aea9",
   "metadata": {},
   "outputs": [],
   "source": [
    "dataFrame['different_between_approved_purchase'] = dataFrame.different_between_approved_purchase.apply(time_different)"
   ]
  },
  {
   "cell_type": "code",
   "execution_count": 13,
   "id": "0524a5de",
   "metadata": {},
   "outputs": [],
   "source": [
    "dataFrame['delivered_day'] = round((dataFrame['order_delivered_customer_date']- dataFrame['order_delivered_carrier_date'])/ pd.Timedelta(days=1),0)"
   ]
  },
  {
   "cell_type": "code",
   "execution_count": 14,
   "id": "52f8549f",
   "metadata": {},
   "outputs": [],
   "source": [
    "dataFrame['delivered_day'] = round((dataFrame['order_delivered_customer_date']- dataFrame['order_delivered_carrier_date'])/ pd.Timedelta(days=1),0)\n",
    "dataFrame['estimated_day'] = round((dataFrame['order_estimated_delivery_date']- dataFrame['order_delivered_carrier_date'])/ pd.Timedelta(days=1),0)\n",
    "dataFrame['delivery'] = dataFrame['estimated_day'] - dataFrame['delivered_day']\n",
    "dataFrame['delivery']=dataFrame['delivery'].apply(lambda x: 0 if x > 0 else 1)"
   ]
  },
  {
   "cell_type": "code",
   "execution_count": 15,
   "id": "eabc0d02",
   "metadata": {},
   "outputs": [],
   "source": [
    "dataFrame['order_delivered_customer_date'] = dataFrame['order_delivered_customer_date'].astype('str')"
   ]
  },
  {
   "cell_type": "code",
   "execution_count": 16,
   "id": "c077de21",
   "metadata": {},
   "outputs": [],
   "source": [
    "dataFrame['delivered_hour']= dataFrame.order_delivered_customer_date.str.slice(10,13)\n",
    "dataFrame['delivered_hour'] = dataFrame['delivered_hour'].astype('int')\n",
    "dataFrame['delivered_hour']=dataFrame['delivered_hour'].apply(lambda x: 'morning' if x >= 7 and x <= 11 else 'midday' if x>11 and x<=17 else 'evening' if x>17 and x<=20 else 'night')\n",
    "dataFrame = pd.get_dummies(dataFrame,columns=['delivered_hour'])"
   ]
  },
  {
   "cell_type": "code",
   "execution_count": 17,
   "id": "c07e9100",
   "metadata": {},
   "outputs": [
    {
     "data": {
      "text/html": [
       "<div>\n",
       "<style scoped>\n",
       "    .dataframe tbody tr th:only-of-type {\n",
       "        vertical-align: middle;\n",
       "    }\n",
       "\n",
       "    .dataframe tbody tr th {\n",
       "        vertical-align: top;\n",
       "    }\n",
       "\n",
       "    .dataframe thead th {\n",
       "        text-align: right;\n",
       "    }\n",
       "</style>\n",
       "<table border=\"1\" class=\"dataframe\">\n",
       "  <thead>\n",
       "    <tr style=\"text-align: right;\">\n",
       "      <th></th>\n",
       "      <th>order_delivered_carrier_date</th>\n",
       "      <th>order_delivered_customer_date</th>\n",
       "      <th>order_estimated_delivery_date</th>\n",
       "      <th>review_score</th>\n",
       "      <th>price</th>\n",
       "      <th>freight_value</th>\n",
       "      <th>product_category_name</th>\n",
       "      <th>product_photos_qty</th>\n",
       "      <th>seller_zip_code_prefix</th>\n",
       "      <th>order_status_canceled</th>\n",
       "      <th>...</th>\n",
       "      <th>payment_type_debit_card</th>\n",
       "      <th>payment_type_voucher</th>\n",
       "      <th>different_between_approved_purchase</th>\n",
       "      <th>delivered_day</th>\n",
       "      <th>estimated_day</th>\n",
       "      <th>delivery</th>\n",
       "      <th>delivered_hour_evening</th>\n",
       "      <th>delivered_hour_midday</th>\n",
       "      <th>delivered_hour_morning</th>\n",
       "      <th>delivered_hour_night</th>\n",
       "    </tr>\n",
       "  </thead>\n",
       "  <tbody>\n",
       "    <tr>\n",
       "      <th>0</th>\n",
       "      <td>2017-11-27 12:42:15</td>\n",
       "      <td>2017-12-22 18:37:40</td>\n",
       "      <td>2017-12-14</td>\n",
       "      <td>2</td>\n",
       "      <td>99.00</td>\n",
       "      <td>13.71</td>\n",
       "      <td>cama_mesa_banho</td>\n",
       "      <td>1.0</td>\n",
       "      <td>14940</td>\n",
       "      <td>0</td>\n",
       "      <td>...</td>\n",
       "      <td>0</td>\n",
       "      <td>0</td>\n",
       "      <td>2</td>\n",
       "      <td>25.0</td>\n",
       "      <td>16.0</td>\n",
       "      <td>1</td>\n",
       "      <td>1</td>\n",
       "      <td>0</td>\n",
       "      <td>0</td>\n",
       "      <td>0</td>\n",
       "    </tr>\n",
       "    <tr>\n",
       "      <th>1</th>\n",
       "      <td>2017-05-24 15:45:01</td>\n",
       "      <td>2017-05-26 13:14:50</td>\n",
       "      <td>2017-05-24</td>\n",
       "      <td>1</td>\n",
       "      <td>18.99</td>\n",
       "      <td>7.78</td>\n",
       "      <td>beleza_saude</td>\n",
       "      <td>3.0</td>\n",
       "      <td>1031</td>\n",
       "      <td>0</td>\n",
       "      <td>...</td>\n",
       "      <td>0</td>\n",
       "      <td>0</td>\n",
       "      <td>1</td>\n",
       "      <td>2.0</td>\n",
       "      <td>-1.0</td>\n",
       "      <td>1</td>\n",
       "      <td>0</td>\n",
       "      <td>1</td>\n",
       "      <td>0</td>\n",
       "      <td>0</td>\n",
       "    </tr>\n",
       "    <tr>\n",
       "      <th>2</th>\n",
       "      <td>2017-05-24 15:45:01</td>\n",
       "      <td>2017-05-26 13:14:50</td>\n",
       "      <td>2017-05-24</td>\n",
       "      <td>1</td>\n",
       "      <td>18.99</td>\n",
       "      <td>7.78</td>\n",
       "      <td>beleza_saude</td>\n",
       "      <td>3.0</td>\n",
       "      <td>1031</td>\n",
       "      <td>0</td>\n",
       "      <td>...</td>\n",
       "      <td>0</td>\n",
       "      <td>0</td>\n",
       "      <td>1</td>\n",
       "      <td>2.0</td>\n",
       "      <td>-1.0</td>\n",
       "      <td>1</td>\n",
       "      <td>0</td>\n",
       "      <td>1</td>\n",
       "      <td>0</td>\n",
       "      <td>0</td>\n",
       "    </tr>\n",
       "    <tr>\n",
       "      <th>3</th>\n",
       "      <td>2018-05-09 13:51:00</td>\n",
       "      <td>2018-05-30 19:38:36</td>\n",
       "      <td>2018-06-05</td>\n",
       "      <td>5</td>\n",
       "      <td>149.90</td>\n",
       "      <td>43.11</td>\n",
       "      <td>bebes</td>\n",
       "      <td>2.0</td>\n",
       "      <td>14960</td>\n",
       "      <td>0</td>\n",
       "      <td>...</td>\n",
       "      <td>0</td>\n",
       "      <td>0</td>\n",
       "      <td>1</td>\n",
       "      <td>21.0</td>\n",
       "      <td>26.0</td>\n",
       "      <td>0</td>\n",
       "      <td>1</td>\n",
       "      <td>0</td>\n",
       "      <td>0</td>\n",
       "      <td>0</td>\n",
       "    </tr>\n",
       "    <tr>\n",
       "      <th>4</th>\n",
       "      <td>2017-11-21 23:21:31</td>\n",
       "      <td>2017-11-27 18:54:09</td>\n",
       "      <td>2017-12-08</td>\n",
       "      <td>3</td>\n",
       "      <td>155.00</td>\n",
       "      <td>14.84</td>\n",
       "      <td>perfumaria</td>\n",
       "      <td>1.0</td>\n",
       "      <td>13030</td>\n",
       "      <td>0</td>\n",
       "      <td>...</td>\n",
       "      <td>0</td>\n",
       "      <td>0</td>\n",
       "      <td>6</td>\n",
       "      <td>6.0</td>\n",
       "      <td>16.0</td>\n",
       "      <td>0</td>\n",
       "      <td>1</td>\n",
       "      <td>0</td>\n",
       "      <td>0</td>\n",
       "      <td>0</td>\n",
       "    </tr>\n",
       "    <tr>\n",
       "      <th>...</th>\n",
       "      <td>...</td>\n",
       "      <td>...</td>\n",
       "      <td>...</td>\n",
       "      <td>...</td>\n",
       "      <td>...</td>\n",
       "      <td>...</td>\n",
       "      <td>...</td>\n",
       "      <td>...</td>\n",
       "      <td>...</td>\n",
       "      <td>...</td>\n",
       "      <td>...</td>\n",
       "      <td>...</td>\n",
       "      <td>...</td>\n",
       "      <td>...</td>\n",
       "      <td>...</td>\n",
       "      <td>...</td>\n",
       "      <td>...</td>\n",
       "      <td>...</td>\n",
       "      <td>...</td>\n",
       "      <td>...</td>\n",
       "      <td>...</td>\n",
       "    </tr>\n",
       "    <tr>\n",
       "      <th>117322</th>\n",
       "      <td>2018-03-20 21:04:09</td>\n",
       "      <td>2018-04-06 18:38:40</td>\n",
       "      <td>2018-04-05</td>\n",
       "      <td>4</td>\n",
       "      <td>69.90</td>\n",
       "      <td>14.58</td>\n",
       "      <td>automotivo</td>\n",
       "      <td>6.0</td>\n",
       "      <td>16301</td>\n",
       "      <td>0</td>\n",
       "      <td>...</td>\n",
       "      <td>0</td>\n",
       "      <td>0</td>\n",
       "      <td>6</td>\n",
       "      <td>17.0</td>\n",
       "      <td>15.0</td>\n",
       "      <td>1</td>\n",
       "      <td>1</td>\n",
       "      <td>0</td>\n",
       "      <td>0</td>\n",
       "      <td>0</td>\n",
       "    </tr>\n",
       "    <tr>\n",
       "      <th>117323</th>\n",
       "      <td>2017-11-13 19:28:35</td>\n",
       "      <td>2017-11-22 00:48:47</td>\n",
       "      <td>2017-11-30</td>\n",
       "      <td>3</td>\n",
       "      <td>38.90</td>\n",
       "      <td>14.08</td>\n",
       "      <td>utilidades_domesticas</td>\n",
       "      <td>5.0</td>\n",
       "      <td>37708</td>\n",
       "      <td>0</td>\n",
       "      <td>...</td>\n",
       "      <td>0</td>\n",
       "      <td>0</td>\n",
       "      <td>1</td>\n",
       "      <td>8.0</td>\n",
       "      <td>16.0</td>\n",
       "      <td>0</td>\n",
       "      <td>0</td>\n",
       "      <td>0</td>\n",
       "      <td>0</td>\n",
       "      <td>1</td>\n",
       "    </tr>\n",
       "    <tr>\n",
       "      <th>117324</th>\n",
       "      <td>2017-11-13 19:28:35</td>\n",
       "      <td>2017-11-22 00:48:47</td>\n",
       "      <td>2017-11-30</td>\n",
       "      <td>3</td>\n",
       "      <td>38.90</td>\n",
       "      <td>14.08</td>\n",
       "      <td>utilidades_domesticas</td>\n",
       "      <td>5.0</td>\n",
       "      <td>37708</td>\n",
       "      <td>0</td>\n",
       "      <td>...</td>\n",
       "      <td>0</td>\n",
       "      <td>0</td>\n",
       "      <td>1</td>\n",
       "      <td>8.0</td>\n",
       "      <td>16.0</td>\n",
       "      <td>0</td>\n",
       "      <td>0</td>\n",
       "      <td>0</td>\n",
       "      <td>0</td>\n",
       "      <td>1</td>\n",
       "    </tr>\n",
       "    <tr>\n",
       "      <th>117327</th>\n",
       "      <td>2018-05-22 10:18:00</td>\n",
       "      <td>2018-06-12 19:32:19</td>\n",
       "      <td>2018-06-08</td>\n",
       "      <td>3</td>\n",
       "      <td>120.00</td>\n",
       "      <td>27.39</td>\n",
       "      <td>bebes</td>\n",
       "      <td>1.0</td>\n",
       "      <td>78095</td>\n",
       "      <td>0</td>\n",
       "      <td>...</td>\n",
       "      <td>0</td>\n",
       "      <td>0</td>\n",
       "      <td>1</td>\n",
       "      <td>21.0</td>\n",
       "      <td>17.0</td>\n",
       "      <td>1</td>\n",
       "      <td>1</td>\n",
       "      <td>0</td>\n",
       "      <td>0</td>\n",
       "      <td>0</td>\n",
       "    </tr>\n",
       "    <tr>\n",
       "      <th>117328</th>\n",
       "      <td>2017-06-07 13:23:18</td>\n",
       "      <td>2017-06-12 12:04:33</td>\n",
       "      <td>2017-06-28</td>\n",
       "      <td>4</td>\n",
       "      <td>31.90</td>\n",
       "      <td>16.79</td>\n",
       "      <td>informatica_acessorios</td>\n",
       "      <td>2.0</td>\n",
       "      <td>31255</td>\n",
       "      <td>0</td>\n",
       "      <td>...</td>\n",
       "      <td>0</td>\n",
       "      <td>0</td>\n",
       "      <td>8</td>\n",
       "      <td>5.0</td>\n",
       "      <td>20.0</td>\n",
       "      <td>0</td>\n",
       "      <td>0</td>\n",
       "      <td>1</td>\n",
       "      <td>0</td>\n",
       "      <td>0</td>\n",
       "    </tr>\n",
       "  </tbody>\n",
       "</table>\n",
       "<p>113217 rows × 23 columns</p>\n",
       "</div>"
      ],
      "text/plain": [
       "       order_delivered_carrier_date order_delivered_customer_date order_estimated_delivery_date  review_score   price  freight_value   product_category_name  product_photos_qty  seller_zip_code_prefix  order_status_canceled  ...  payment_type_debit_card  payment_type_voucher  different_between_approved_purchase  delivered_day  estimated_day  delivery  delivered_hour_evening  delivered_hour_midday  delivered_hour_morning  delivered_hour_night\n",
       "0               2017-11-27 12:42:15           2017-12-22 18:37:40                    2017-12-14             2   99.00          13.71         cama_mesa_banho                 1.0                   14940                      0  ...                        0                     0                                    2           25.0           16.0         1                       1                      0                       0                     0\n",
       "1               2017-05-24 15:45:01           2017-05-26 13:14:50                    2017-05-24             1   18.99           7.78            beleza_saude                 3.0                    1031                      0  ...                        0                     0                                    1            2.0           -1.0         1                       0                      1                       0                     0\n",
       "2               2017-05-24 15:45:01           2017-05-26 13:14:50                    2017-05-24             1   18.99           7.78            beleza_saude                 3.0                    1031                      0  ...                        0                     0                                    1            2.0           -1.0         1                       0                      1                       0                     0\n",
       "3               2018-05-09 13:51:00           2018-05-30 19:38:36                    2018-06-05             5  149.90          43.11                   bebes                 2.0                   14960                      0  ...                        0                     0                                    1           21.0           26.0         0                       1                      0                       0                     0\n",
       "4               2017-11-21 23:21:31           2017-11-27 18:54:09                    2017-12-08             3  155.00          14.84              perfumaria                 1.0                   13030                      0  ...                        0                     0                                    6            6.0           16.0         0                       1                      0                       0                     0\n",
       "...                             ...                           ...                           ...           ...     ...            ...                     ...                 ...                     ...                    ...  ...                      ...                   ...                                  ...            ...            ...       ...                     ...                    ...                     ...                   ...\n",
       "117322          2018-03-20 21:04:09           2018-04-06 18:38:40                    2018-04-05             4   69.90          14.58              automotivo                 6.0                   16301                      0  ...                        0                     0                                    6           17.0           15.0         1                       1                      0                       0                     0\n",
       "117323          2017-11-13 19:28:35           2017-11-22 00:48:47                    2017-11-30             3   38.90          14.08   utilidades_domesticas                 5.0                   37708                      0  ...                        0                     0                                    1            8.0           16.0         0                       0                      0                       0                     1\n",
       "117324          2017-11-13 19:28:35           2017-11-22 00:48:47                    2017-11-30             3   38.90          14.08   utilidades_domesticas                 5.0                   37708                      0  ...                        0                     0                                    1            8.0           16.0         0                       0                      0                       0                     1\n",
       "117327          2018-05-22 10:18:00           2018-06-12 19:32:19                    2018-06-08             3  120.00          27.39                   bebes                 1.0                   78095                      0  ...                        0                     0                                    1           21.0           17.0         1                       1                      0                       0                     0\n",
       "117328          2017-06-07 13:23:18           2017-06-12 12:04:33                    2017-06-28             4   31.90          16.79  informatica_acessorios                 2.0                   31255                      0  ...                        0                     0                                    8            5.0           20.0         0                       0                      1                       0                     0\n",
       "\n",
       "[113217 rows x 23 columns]"
      ]
     },
     "execution_count": 17,
     "metadata": {},
     "output_type": "execute_result"
    }
   ],
   "source": [
    "dataFrame"
   ]
  },
  {
   "cell_type": "code",
   "execution_count": 18,
   "id": "01576f0b",
   "metadata": {},
   "outputs": [],
   "source": [
    "dataFrame['delivered_season']= dataFrame.order_delivered_customer_date.str.slice(5,7)\n",
    "dataFrame['delivered_season'] = dataFrame['delivered_season'].astype('int')\n",
    "dataFrame['delivered_season']=dataFrame['delivered_season'].apply(lambda x: 'winter' if x > 4 and x <= 11 else 'summer')\n",
    "dataFrame = pd.get_dummies(dataFrame,columns=['delivered_season'])"
   ]
  },
  {
   "cell_type": "code",
   "execution_count": 19,
   "id": "ce2f88e7",
   "metadata": {},
   "outputs": [],
   "source": [
    "dataFrame.drop('order_delivered_carrier_date', axis = 1, inplace = True)\n",
    "dataFrame.drop('order_delivered_customer_date', axis = 1, inplace = True)\n",
    "dataFrame.drop('order_estimated_delivery_date', axis = 1, inplace = True)\n",
    "dataFrame.drop('estimated_day', axis = 1, inplace = True)\n",
    "dataFrame.drop('delivered_day', axis = 1, inplace = True)"
   ]
  },
  {
   "cell_type": "code",
   "execution_count": 20,
   "id": "b8d267e3",
   "metadata": {},
   "outputs": [],
   "source": [
    "dataFrame['review_score']=dataFrame['review_score'].apply(lambda x: 0 if x > 3 else 1)"
   ]
  },
  {
   "cell_type": "code",
   "execution_count": 21,
   "id": "fcc84994",
   "metadata": {},
   "outputs": [],
   "source": [
    "df2 = dataFrame.groupby('seller_zip_code_prefix')['product_category_name'].count().reset_index()\n",
    "df2 = pd.DataFrame(df2)\n",
    "dataFrame = pd.merge(dataFrame,df2, how='inner', on = 'seller_zip_code_prefix')"
   ]
  },
  {
   "cell_type": "code",
   "execution_count": 22,
   "id": "b13d6b76",
   "metadata": {},
   "outputs": [],
   "source": [
    "def price(x):\n",
    "    if x<=50:\n",
    "        return 1\n",
    "    elif  x>50 and x<=100:\n",
    "        return 2\n",
    "    elif x>=100 and x<250:\n",
    "        return 3\n",
    "    elif x>=250 and x<500:\n",
    "        return 4\n",
    "    elif x>=500 and x<1000:\n",
    "        return 5\n",
    "    elif x>=1000 and x<2000:\n",
    "        return 6\n",
    "    elif x>=2000 and x<3000:\n",
    "        return 7\n",
    "    elif x>=3000 and x<4000:\n",
    "        return 8\n",
    "    elif x>=4000 and x<5000:\n",
    "        return 9\n",
    "    else:\n",
    "        return 10"
   ]
  },
  {
   "cell_type": "code",
   "execution_count": 23,
   "id": "9f9005b3",
   "metadata": {},
   "outputs": [],
   "source": [
    "dataFrame['price'] = dataFrame.price.apply(price)"
   ]
  },
  {
   "cell_type": "code",
   "execution_count": 24,
   "id": "d95594c4",
   "metadata": {},
   "outputs": [],
   "source": [
    "dataFrame.rename(columns={'product_category_name_x': 'product_category','product_category_name_y': 'seller_count'}, inplace=True)"
   ]
  },
  {
   "cell_type": "code",
   "execution_count": 25,
   "id": "63e890c9",
   "metadata": {},
   "outputs": [],
   "source": [
    "def seller_index(x):\n",
    "    if x<=10:\n",
    "        return 1\n",
    "    elif  x>10 and x<=50:\n",
    "        return 2\n",
    "    elif x>=50 and x<250:\n",
    "        return 3\n",
    "    elif x>=250 and x<500:\n",
    "        return 4\n",
    "    elif x>=500 and x<1000:\n",
    "        return 5\n",
    "    elif x>=1000 and x<2000:\n",
    "        return 6\n",
    "    elif x>=2000 and x<3000:\n",
    "        return 7\n",
    "    elif x>=3000 and x<4000:\n",
    "        return 8\n",
    "    elif x>=4000 and x<5000:\n",
    "        return 9\n",
    "    else:\n",
    "        return 10"
   ]
  },
  {
   "cell_type": "code",
   "execution_count": 26,
   "id": "a64f6e45",
   "metadata": {},
   "outputs": [],
   "source": [
    "dataFrame['seller_count'] = dataFrame.seller_count.apply(seller_index)"
   ]
  },
  {
   "cell_type": "code",
   "execution_count": 27,
   "id": "f4437c29",
   "metadata": {},
   "outputs": [],
   "source": [
    "dataFrame.drop('seller_zip_code_prefix', axis = 1, inplace = True)\n",
    "dataFrame.drop('freight_value', axis = 1, inplace = True)\n",
    "dataFrame.drop('product_category', axis = 1, inplace = True)"
   ]
  },
  {
   "cell_type": "code",
   "execution_count": 28,
   "id": "b5fc8cb0",
   "metadata": {},
   "outputs": [
    {
     "data": {
      "text/html": [
       "<div>\n",
       "<style scoped>\n",
       "    .dataframe tbody tr th:only-of-type {\n",
       "        vertical-align: middle;\n",
       "    }\n",
       "\n",
       "    .dataframe tbody tr th {\n",
       "        vertical-align: top;\n",
       "    }\n",
       "\n",
       "    .dataframe thead th {\n",
       "        text-align: right;\n",
       "    }\n",
       "</style>\n",
       "<table border=\"1\" class=\"dataframe\">\n",
       "  <thead>\n",
       "    <tr style=\"text-align: right;\">\n",
       "      <th></th>\n",
       "      <th>review_score</th>\n",
       "      <th>price</th>\n",
       "      <th>product_photos_qty</th>\n",
       "      <th>order_status_canceled</th>\n",
       "      <th>order_status_delivered</th>\n",
       "      <th>payment_type_boleto</th>\n",
       "      <th>payment_type_credit_card</th>\n",
       "      <th>payment_type_debit_card</th>\n",
       "      <th>payment_type_voucher</th>\n",
       "      <th>different_between_approved_purchase</th>\n",
       "      <th>delivery</th>\n",
       "      <th>delivered_hour_evening</th>\n",
       "      <th>delivered_hour_midday</th>\n",
       "      <th>delivered_hour_morning</th>\n",
       "      <th>delivered_hour_night</th>\n",
       "      <th>delivered_season_summer</th>\n",
       "      <th>delivered_season_winter</th>\n",
       "      <th>seller_count</th>\n",
       "    </tr>\n",
       "  </thead>\n",
       "  <tbody>\n",
       "    <tr>\n",
       "      <th>0</th>\n",
       "      <td>1</td>\n",
       "      <td>2</td>\n",
       "      <td>1.0</td>\n",
       "      <td>0</td>\n",
       "      <td>1</td>\n",
       "      <td>0</td>\n",
       "      <td>1</td>\n",
       "      <td>0</td>\n",
       "      <td>0</td>\n",
       "      <td>2</td>\n",
       "      <td>1</td>\n",
       "      <td>1</td>\n",
       "      <td>0</td>\n",
       "      <td>0</td>\n",
       "      <td>0</td>\n",
       "      <td>1</td>\n",
       "      <td>0</td>\n",
       "      <td>10</td>\n",
       "    </tr>\n",
       "    <tr>\n",
       "      <th>1</th>\n",
       "      <td>1</td>\n",
       "      <td>2</td>\n",
       "      <td>1.0</td>\n",
       "      <td>0</td>\n",
       "      <td>1</td>\n",
       "      <td>0</td>\n",
       "      <td>1</td>\n",
       "      <td>0</td>\n",
       "      <td>0</td>\n",
       "      <td>1</td>\n",
       "      <td>0</td>\n",
       "      <td>0</td>\n",
       "      <td>1</td>\n",
       "      <td>0</td>\n",
       "      <td>0</td>\n",
       "      <td>0</td>\n",
       "      <td>1</td>\n",
       "      <td>10</td>\n",
       "    </tr>\n",
       "    <tr>\n",
       "      <th>2</th>\n",
       "      <td>1</td>\n",
       "      <td>1</td>\n",
       "      <td>1.0</td>\n",
       "      <td>0</td>\n",
       "      <td>1</td>\n",
       "      <td>0</td>\n",
       "      <td>1</td>\n",
       "      <td>0</td>\n",
       "      <td>0</td>\n",
       "      <td>1</td>\n",
       "      <td>1</td>\n",
       "      <td>0</td>\n",
       "      <td>0</td>\n",
       "      <td>0</td>\n",
       "      <td>1</td>\n",
       "      <td>1</td>\n",
       "      <td>0</td>\n",
       "      <td>10</td>\n",
       "    </tr>\n",
       "    <tr>\n",
       "      <th>3</th>\n",
       "      <td>1</td>\n",
       "      <td>1</td>\n",
       "      <td>1.0</td>\n",
       "      <td>0</td>\n",
       "      <td>1</td>\n",
       "      <td>0</td>\n",
       "      <td>1</td>\n",
       "      <td>0</td>\n",
       "      <td>0</td>\n",
       "      <td>1</td>\n",
       "      <td>1</td>\n",
       "      <td>0</td>\n",
       "      <td>0</td>\n",
       "      <td>0</td>\n",
       "      <td>1</td>\n",
       "      <td>1</td>\n",
       "      <td>0</td>\n",
       "      <td>10</td>\n",
       "    </tr>\n",
       "    <tr>\n",
       "      <th>4</th>\n",
       "      <td>0</td>\n",
       "      <td>3</td>\n",
       "      <td>1.0</td>\n",
       "      <td>0</td>\n",
       "      <td>1</td>\n",
       "      <td>0</td>\n",
       "      <td>1</td>\n",
       "      <td>0</td>\n",
       "      <td>0</td>\n",
       "      <td>1</td>\n",
       "      <td>0</td>\n",
       "      <td>0</td>\n",
       "      <td>1</td>\n",
       "      <td>0</td>\n",
       "      <td>0</td>\n",
       "      <td>0</td>\n",
       "      <td>1</td>\n",
       "      <td>10</td>\n",
       "    </tr>\n",
       "    <tr>\n",
       "      <th>...</th>\n",
       "      <td>...</td>\n",
       "      <td>...</td>\n",
       "      <td>...</td>\n",
       "      <td>...</td>\n",
       "      <td>...</td>\n",
       "      <td>...</td>\n",
       "      <td>...</td>\n",
       "      <td>...</td>\n",
       "      <td>...</td>\n",
       "      <td>...</td>\n",
       "      <td>...</td>\n",
       "      <td>...</td>\n",
       "      <td>...</td>\n",
       "      <td>...</td>\n",
       "      <td>...</td>\n",
       "      <td>...</td>\n",
       "      <td>...</td>\n",
       "      <td>...</td>\n",
       "    </tr>\n",
       "    <tr>\n",
       "      <th>113212</th>\n",
       "      <td>0</td>\n",
       "      <td>1</td>\n",
       "      <td>1.0</td>\n",
       "      <td>0</td>\n",
       "      <td>1</td>\n",
       "      <td>0</td>\n",
       "      <td>1</td>\n",
       "      <td>0</td>\n",
       "      <td>0</td>\n",
       "      <td>4</td>\n",
       "      <td>0</td>\n",
       "      <td>0</td>\n",
       "      <td>0</td>\n",
       "      <td>0</td>\n",
       "      <td>1</td>\n",
       "      <td>1</td>\n",
       "      <td>0</td>\n",
       "      <td>1</td>\n",
       "    </tr>\n",
       "    <tr>\n",
       "      <th>113213</th>\n",
       "      <td>0</td>\n",
       "      <td>1</td>\n",
       "      <td>1.0</td>\n",
       "      <td>0</td>\n",
       "      <td>1</td>\n",
       "      <td>0</td>\n",
       "      <td>1</td>\n",
       "      <td>0</td>\n",
       "      <td>0</td>\n",
       "      <td>4</td>\n",
       "      <td>0</td>\n",
       "      <td>0</td>\n",
       "      <td>0</td>\n",
       "      <td>0</td>\n",
       "      <td>1</td>\n",
       "      <td>1</td>\n",
       "      <td>0</td>\n",
       "      <td>1</td>\n",
       "    </tr>\n",
       "    <tr>\n",
       "      <th>113214</th>\n",
       "      <td>0</td>\n",
       "      <td>6</td>\n",
       "      <td>4.0</td>\n",
       "      <td>0</td>\n",
       "      <td>1</td>\n",
       "      <td>0</td>\n",
       "      <td>1</td>\n",
       "      <td>0</td>\n",
       "      <td>0</td>\n",
       "      <td>5</td>\n",
       "      <td>0</td>\n",
       "      <td>0</td>\n",
       "      <td>0</td>\n",
       "      <td>0</td>\n",
       "      <td>1</td>\n",
       "      <td>0</td>\n",
       "      <td>1</td>\n",
       "      <td>1</td>\n",
       "    </tr>\n",
       "    <tr>\n",
       "      <th>113215</th>\n",
       "      <td>0</td>\n",
       "      <td>6</td>\n",
       "      <td>1.0</td>\n",
       "      <td>0</td>\n",
       "      <td>1</td>\n",
       "      <td>0</td>\n",
       "      <td>1</td>\n",
       "      <td>0</td>\n",
       "      <td>0</td>\n",
       "      <td>5</td>\n",
       "      <td>0</td>\n",
       "      <td>0</td>\n",
       "      <td>0</td>\n",
       "      <td>0</td>\n",
       "      <td>1</td>\n",
       "      <td>0</td>\n",
       "      <td>1</td>\n",
       "      <td>1</td>\n",
       "    </tr>\n",
       "    <tr>\n",
       "      <th>113216</th>\n",
       "      <td>0</td>\n",
       "      <td>1</td>\n",
       "      <td>1.0</td>\n",
       "      <td>0</td>\n",
       "      <td>1</td>\n",
       "      <td>0</td>\n",
       "      <td>1</td>\n",
       "      <td>0</td>\n",
       "      <td>0</td>\n",
       "      <td>8</td>\n",
       "      <td>0</td>\n",
       "      <td>1</td>\n",
       "      <td>0</td>\n",
       "      <td>0</td>\n",
       "      <td>0</td>\n",
       "      <td>1</td>\n",
       "      <td>0</td>\n",
       "      <td>1</td>\n",
       "    </tr>\n",
       "  </tbody>\n",
       "</table>\n",
       "<p>113217 rows × 18 columns</p>\n",
       "</div>"
      ],
      "text/plain": [
       "        review_score  price  product_photos_qty  order_status_canceled  order_status_delivered  payment_type_boleto  payment_type_credit_card  payment_type_debit_card  payment_type_voucher  different_between_approved_purchase  delivery  delivered_hour_evening  delivered_hour_midday  delivered_hour_morning  delivered_hour_night  delivered_season_summer  delivered_season_winter  seller_count\n",
       "0                  1      2                 1.0                      0                       1                    0                         1                        0                     0                                    2         1                       1                      0                       0                     0                        1                        0            10\n",
       "1                  1      2                 1.0                      0                       1                    0                         1                        0                     0                                    1         0                       0                      1                       0                     0                        0                        1            10\n",
       "2                  1      1                 1.0                      0                       1                    0                         1                        0                     0                                    1         1                       0                      0                       0                     1                        1                        0            10\n",
       "3                  1      1                 1.0                      0                       1                    0                         1                        0                     0                                    1         1                       0                      0                       0                     1                        1                        0            10\n",
       "4                  0      3                 1.0                      0                       1                    0                         1                        0                     0                                    1         0                       0                      1                       0                     0                        0                        1            10\n",
       "...              ...    ...                 ...                    ...                     ...                  ...                       ...                      ...                   ...                                  ...       ...                     ...                    ...                     ...                   ...                      ...                      ...           ...\n",
       "113212             0      1                 1.0                      0                       1                    0                         1                        0                     0                                    4         0                       0                      0                       0                     1                        1                        0             1\n",
       "113213             0      1                 1.0                      0                       1                    0                         1                        0                     0                                    4         0                       0                      0                       0                     1                        1                        0             1\n",
       "113214             0      6                 4.0                      0                       1                    0                         1                        0                     0                                    5         0                       0                      0                       0                     1                        0                        1             1\n",
       "113215             0      6                 1.0                      0                       1                    0                         1                        0                     0                                    5         0                       0                      0                       0                     1                        0                        1             1\n",
       "113216             0      1                 1.0                      0                       1                    0                         1                        0                     0                                    8         0                       1                      0                       0                     0                        1                        0             1\n",
       "\n",
       "[113217 rows x 18 columns]"
      ]
     },
     "execution_count": 28,
     "metadata": {},
     "output_type": "execute_result"
    }
   ],
   "source": [
    "dataFrame"
   ]
  },
  {
   "cell_type": "markdown",
   "id": "c510e42c",
   "metadata": {},
   "source": [
    "## Machine Learning"
   ]
  },
  {
   "cell_type": "code",
   "execution_count": 29,
   "id": "4b185188",
   "metadata": {},
   "outputs": [],
   "source": [
    "from sklearn.linear_model import LogisticRegression\n",
    "from sklearn.model_selection import train_test_split, cross_val_predict, cross_val_score\n",
    "from sklearn.metrics import precision_score, recall_score, accuracy_score, roc_auc_score, confusion_matrix, f1_score, precision_recall_curve\n",
    "from sklearn.preprocessing import StandardScaler\n",
    "from sklearn.naive_bayes import BernoulliNB, MultinomialNB, GaussianNB\n",
    "from sklearn.dummy import DummyClassifier\n",
    "from sklearn.neighbors import KNeighborsClassifier\n",
    "from sklearn import metrics\n",
    "from sklearn.svm import SVC, LinearSVC\n",
    "from sklearn.tree import DecisionTreeClassifier\n",
    "from sklearn.ensemble import RandomForestClassifier\n",
    "from sklearn import model_selection\n",
    "from sklearn.ensemble import GradientBoostingClassifier\n",
    "from sklearn.ensemble import AdaBoostClassifier\n",
    "from sklearn.ensemble import VotingClassifier\n",
    "\n",
    "from sklearn.model_selection import RandomizedSearchCV,GridSearchCV\n",
    "\n",
    "from sklearn.ensemble import ExtraTreesClassifier, BaggingClassifier\n",
    "\n",
    "from xgboost import XGBClassifier\n",
    "from collections import Counter\n",
    "\n",
    "import matplotlib.pyplot as plt\n",
    "import seaborn as sns\n",
    "from mlxtend.plotting import plot_decision_regions\n",
    "from sklearn.metrics import precision_recall_fscore_support as score\n",
    "from sklearn.model_selection import KFold,cross_val_score\n",
    "from sklearn.linear_model import SGDClassifier\n",
    "from sklearn.metrics import plot_confusion_matrix\n",
    "\n",
    "\n",
    "from sklearn.metrics import accuracy_score, log_loss\n",
    "from sklearn.metrics import precision_recall_fscore_support as score\n",
    "from sklearn.metrics import roc_curve, auc, confusion_matrix, roc_auc_score\n",
    "from imblearn.over_sampling import RandomOverSampler\n",
    "from sklearn.model_selection import GridSearchCV, cross_val_score"
   ]
  },
  {
   "cell_type": "code",
   "execution_count": 30,
   "id": "86b22197",
   "metadata": {},
   "outputs": [],
   "source": [
    "X= dataFrame.drop(columns=[\"review_score\"])\n",
    "y= dataFrame.loc[:,\"review_score\"]"
   ]
  },
  {
   "cell_type": "code",
   "execution_count": 31,
   "id": "c36a2823",
   "metadata": {},
   "outputs": [
    {
     "data": {
      "text/plain": [
       "0    86970\n",
       "1    26247\n",
       "Name: review_score, dtype: int64"
      ]
     },
     "execution_count": 31,
     "metadata": {},
     "output_type": "execute_result"
    }
   ],
   "source": [
    "y.value_counts()"
   ]
  },
  {
   "cell_type": "code",
   "execution_count": 32,
   "id": "5db63710",
   "metadata": {},
   "outputs": [],
   "source": [
    "X_train, X_test, y_train, y_test = train_test_split(X, y, test_size=0.2, random_state=42)"
   ]
  },
  {
   "cell_type": "code",
   "execution_count": 33,
   "id": "c5903e11",
   "metadata": {},
   "outputs": [
    {
     "data": {
      "text/plain": [
       "0    17335\n",
       "1     5309\n",
       "Name: review_score, dtype: int64"
      ]
     },
     "execution_count": 33,
     "metadata": {},
     "output_type": "execute_result"
    }
   ],
   "source": [
    "y_test.value_counts()"
   ]
  },
  {
   "cell_type": "code",
   "execution_count": 34,
   "id": "413711e9",
   "metadata": {},
   "outputs": [],
   "source": [
    "def print_confusion_matrix(confusion_matrix, class_names, figsize = (10,7), fontsize=18):\n",
    "\n",
    "    df_cm = pd.DataFrame(confusion_matrix, index=class_names, columns=class_names, )\n",
    "    fig = plt.figure(figsize=figsize)\n",
    "    try:\n",
    "        heatmap = sns.heatmap(df_cm, annot=True, fmt=\"d\", cmap=\"mako\")\n",
    "    except ValueError:\n",
    "        raise ValueError(\"Confusion matrix values must be integers.\")\n",
    "    heatmap.yaxis.set_ticklabels(heatmap.yaxis.get_ticklabels(), rotation=0, ha='right', fontsize=fontsize)\n",
    "    heatmap.xaxis.set_ticklabels(heatmap.xaxis.get_ticklabels(), rotation=45, ha='right', fontsize=fontsize)\n",
    "    plt.ylabel('True label')\n",
    "    plt.xlabel('Predicted label')\n",
    "    return fig"
   ]
  },
  {
   "cell_type": "code",
   "execution_count": 35,
   "id": "6ba995ea",
   "metadata": {},
   "outputs": [],
   "source": [
    "perform_list = []\n",
    "\n",
    "models = []\n",
    "\n",
    "proba_score = []\n",
    "\n",
    "val_score = []"
   ]
  },
  {
   "cell_type": "code",
   "execution_count": 36,
   "id": "e9f69892",
   "metadata": {},
   "outputs": [],
   "source": [
    "kf = KFold(n_splits=220)"
   ]
  },
  {
   "cell_type": "markdown",
   "id": "6ed3cd5a",
   "metadata": {},
   "source": [
    "## LogisticRegression"
   ]
  },
  {
   "cell_type": "code",
   "execution_count": 37,
   "id": "f3be4699",
   "metadata": {},
   "outputs": [
    {
     "name": "stdout",
     "output_type": "stream",
     "text": [
      "Train Accuracy score : 0.79\n",
      "Test Accuracy score : 0.79\n"
     ]
    },
    {
     "data": {
      "image/png": "[encoded data removed]",
      "text/plain": [
       "<Figure size 720x504 with 2 Axes>"
      ]
     },
     "metadata": {
      "needs_background": "light"
     },
     "output_type": "display_data"
    }
   ],
   "source": [
    "logreg = LogisticRegression()\n",
    "logreg.fit(X_train, y_train)\n",
    "\n",
    "y_pred = logreg.predict(X_test)\n",
    "\n",
    "acc_log = round(logreg.score(X_train, y_train), 2)\n",
    "\n",
    "print(\"Train Accuracy score :\",acc_log)\n",
    "print(\"Test Accuracy score :\",  round(logreg.score(X_test, y_test), 2))\n",
    "\n",
    "\n",
    "conf_mat = confusion_matrix(y_true=y_test, y_pred=y_pred)\n",
    "cm = print_confusion_matrix(conf_mat, ['satisfied', 'not satisfied'])"
   ]
  },
  {
   "cell_type": "code",
   "execution_count": 38,
   "id": "a712a9a4",
   "metadata": {},
   "outputs": [],
   "source": [
    "log_val = model_selection.cross_val_score(logreg, X_train, y_train, cv=10).mean()"
   ]
  },
  {
   "cell_type": "code",
   "execution_count": 39,
   "id": "756dec21",
   "metadata": {},
   "outputs": [
    {
     "name": "stdout",
     "output_type": "stream",
     "text": [
      "Precision : 0.7097644361764847\n",
      "Recall    : 0.5915485092253452\n",
      "F-score   : 0.6016386185554072\n"
     ]
    }
   ],
   "source": [
    "# get precision, recall, f1-score\n",
    "precision, recall, fscore, support = score(y_test, y_pred, average='macro')\n",
    "print(f'Precision : {precision}')\n",
    "print(f'Recall    : {recall}')\n",
    "print(f'F-score   : {fscore}')\n",
    "\n",
    "perform_list.append(dict([\n",
    "    ('Model', 'Logistic Regression'),\n",
    "    ('Train Accuracy', round(acc_log*100, 2)),\n",
    "    ('Test Accuracy', round((logreg.score(X_test, y_test))*100, 2)),\n",
    "    (\"CV Accuracy\",log_val*100),\n",
    "    ('Precision', round(precision*100, 2)),\n",
    "    ('Recall', round(recall*100, 2)),\n",
    "    ('F1', round(fscore*100, 2))\n",
    "     ]))\n",
    "\n",
    "# add model to list\n",
    "models.append('Logistic Regression')"
   ]
  },
  {
   "cell_type": "markdown",
   "id": "f047ea6c",
   "metadata": {},
   "source": [
    "## DecisionTree"
   ]
  },
  {
   "cell_type": "code",
   "execution_count": 40,
   "id": "9e40f989",
   "metadata": {},
   "outputs": [
    {
     "name": "stdout",
     "output_type": "stream",
     "text": [
      "Train Accuracy score : 0.83\n",
      "Test Accuracy score : 0.77\n"
     ]
    },
    {
     "data": {
      "image/png": "[encoded data removed]",
      "text/plain": [
       "<Figure size 720x504 with 2 Axes>"
      ]
     },
     "metadata": {
      "needs_background": "light"
     },
     "output_type": "display_data"
    }
   ],
   "source": [
    "decision_tree = DecisionTreeClassifier() \n",
    "decision_tree.fit(X_train, y_train) \n",
    "y_pred = decision_tree.predict(X_test) \n",
    "acc_decision_tree = round(decision_tree.score(X_train, y_train) , 2)\n",
    "\n",
    "print(\"Train Accuracy score :\",acc_decision_tree)\n",
    "print(\"Test Accuracy score :\",  round(decision_tree.score(X_test, y_test), 2))\n",
    "\n",
    "\n",
    "conf_mat = confusion_matrix(y_true=y_test, y_pred=y_pred)\n",
    "cm = print_confusion_matrix(conf_mat, ['satisfied', 'not satisfied']) # 1 85"
   ]
  },
  {
   "cell_type": "code",
   "execution_count": 41,
   "id": "71aa574f",
   "metadata": {},
   "outputs": [],
   "source": [
    "dt_val = model_selection.cross_val_score(decision_tree, X_train, y_train, cv=10).mean()"
   ]
  },
  {
   "cell_type": "code",
   "execution_count": 42,
   "id": "6960b101",
   "metadata": {},
   "outputs": [
    {
     "name": "stdout",
     "output_type": "stream",
     "text": [
      "Precision : 0.671684745016056\n",
      "Recall    : 0.579171955389412\n",
      "F-score   : 0.585420156351401\n"
     ]
    }
   ],
   "source": [
    "# get precision, recall, f1-score\n",
    "precision, recall, fscore, support = score(y_test, y_pred, average='macro')\n",
    "print(f'Precision : {precision}')\n",
    "print(f'Recall    : {recall}')\n",
    "print(f'F-score   : {fscore}')\n",
    "\n",
    "perform_list.append(dict([\n",
    "    ('Model', 'Decision Tree'),\n",
    "    ('Train Accuracy', round(acc_decision_tree*100, 2)),\n",
    "    ('Test Accuracy', round((decision_tree.score(X_test, y_test))*100, 2)),\n",
    "    (\"CV Accuracy\",dt_val*100),\n",
    "    ('Precision', round(precision*100, 2)),\n",
    "    ('Recall', round(recall*100, 2)),\n",
    "    ('F1', round(fscore*100, 2))\n",
    "     ]))\n",
    "\n",
    "# add model to list\n",
    "models.append('Decision Tree')"
   ]
  },
  {
   "cell_type": "markdown",
   "id": "02140428",
   "metadata": {},
   "source": [
    "## RandomForest"
   ]
  },
  {
   "cell_type": "code",
   "execution_count": 43,
   "id": "3e9067f1",
   "metadata": {},
   "outputs": [
    {
     "name": "stdout",
     "output_type": "stream",
     "text": [
      "Train Accuracy score : 0.8282159142349266\n",
      "Test Accuracy score : 0.7784843667196608\n"
     ]
    },
    {
     "data": {
      "image/png": "[encoded data removed]",
      "text/plain": [
       "<Figure size 720x504 with 2 Axes>"
      ]
     },
     "metadata": {
      "needs_background": "light"
     },
     "output_type": "display_data"
    }
   ],
   "source": [
    "random_forest = RandomForestClassifier(n_estimators=100)\n",
    "random_forest.fit(X_train, y_train)\n",
    "\n",
    "y_pred = random_forest.predict(X_test)\n",
    "\n",
    "random_forest.score(X_train, y_train)\n",
    "acc_random_forest = random_forest.score(X_train, y_train)\n",
    "\n",
    "print(\"Train Accuracy score :\",acc_random_forest)\n",
    "print(\"Test Accuracy score :\",  random_forest.score(X_test, y_test))\n",
    "\n",
    "\n",
    "conf_mat = confusion_matrix(y_true=y_test, y_pred=y_pred)   \n",
    "                                                          \n",
    "cm = print_confusion_matrix(conf_mat, ['satisfied', 'not satisfied']) "
   ]
  },
  {
   "cell_type": "code",
   "execution_count": 44,
   "id": "4e43b02e",
   "metadata": {},
   "outputs": [
    {
     "name": "stdout",
     "output_type": "stream",
     "text": [
      "0.7797356968828684\n"
     ]
    }
   ],
   "source": [
    "results = model_selection.cross_val_score(random_forest, X_train, y_train, cv=10).mean()\n",
    "print(results.mean())"
   ]
  },
  {
   "cell_type": "code",
   "execution_count": 45,
   "id": "d95c10e7",
   "metadata": {},
   "outputs": [
    {
     "name": "stdout",
     "output_type": "stream",
     "text": [
      "Precision : 0.6845631853404162\n",
      "Recall    : 0.5874427145961902\n",
      "F-score   : 0.5963765971744889\n"
     ]
    }
   ],
   "source": [
    "# get precision, recall, f1-score\n",
    "precision, recall, fscore, support = score(y_test, y_pred, average='macro')\n",
    "print(f'Precision : {precision}')\n",
    "print(f'Recall    : {recall}')\n",
    "print(f'F-score   : {fscore}')\n",
    "\n",
    "perform_list.append(dict([\n",
    "    ('Model', 'Random Forest'),\n",
    "    ('Train Accuracy', round(acc_random_forest*100, 2)),\n",
    "    ('Test Accuracy', round((random_forest.score(X_test, y_test))*100, 2)),\n",
    "    (\"CV Accuracy\",results*100),\n",
    "    ('Precision', round(precision*100, 2)),\n",
    "    ('Recall', round(recall*100, 2)),\n",
    "    ('F1', round(fscore*100, 2))\n",
    "     ]))\n",
    "\n",
    "# add model to list\n",
    "models.append('Random Forest')"
   ]
  },
  {
   "cell_type": "markdown",
   "id": "dedfcc2d",
   "metadata": {},
   "source": [
    "## KNN"
   ]
  },
  {
   "cell_type": "code",
   "execution_count": 46,
   "id": "fac7290c",
   "metadata": {},
   "outputs": [
    {
     "name": "stdout",
     "output_type": "stream",
     "text": [
      "Train Accuracy Score of Basic KNN model: % 0.78\n",
      "Test Accuracy Score of Basic KNN model: % 0.75\n"
     ]
    },
    {
     "data": {
      "image/png": "[encoded data removed]",
      "text/plain": [
       "<Figure size 720x504 with 2 Axes>"
      ]
     },
     "metadata": {
      "needs_background": "light"
     },
     "output_type": "display_data"
    }
   ],
   "source": [
    "knn = KNeighborsClassifier(n_neighbors=5)\n",
    "knn.fit(X_train, y_train)\n",
    "y_pred = knn.predict(X_test)\n",
    "\n",
    "knn_acc = round(knn.score(X_train, y_train), 2)\n",
    "knn_acc_test = round(accuracy_score(y_test, y_pred),2)\n",
    "print(f'Train Accuracy Score of Basic KNN model: % {knn_acc}')\n",
    "print(f'Test Accuracy Score of Basic KNN model: % {knn_acc_test}')\n",
    "\n",
    "\n",
    "conf_mat = confusion_matrix(y_true=y_test, y_pred=y_pred)\n",
    "cm = print_confusion_matrix(conf_mat, ['satisfied', 'not satisfied'])"
   ]
  },
  {
   "cell_type": "code",
   "execution_count": 47,
   "id": "3c26cc97",
   "metadata": {},
   "outputs": [],
   "source": [
    "knn_val = model_selection.cross_val_score(knn, X_train, y_train, cv=kf, scoring='accuracy').mean()"
   ]
  },
  {
   "cell_type": "code",
   "execution_count": 48,
   "id": "6e567838",
   "metadata": {},
   "outputs": [
    {
     "name": "stdout",
     "output_type": "stream",
     "text": [
      "Precision : 0.6176030868392962\n",
      "Recall    : 0.5676174134479911\n",
      "F-score   : 0.5718757455683263\n"
     ]
    }
   ],
   "source": [
    "# get precision, recall, f1-score\n",
    "precision, recall, fscore, support = score(y_test, y_pred, average='macro')\n",
    "print(f'Precision : {precision}')\n",
    "print(f'Recall    : {recall}')\n",
    "print(f'F-score   : {fscore}')\n",
    "\n",
    "perform_list.append(dict([\n",
    "    ('Model', 'KNN'),\n",
    "    ('Train Accuracy', round(knn_acc*100, 2)),\n",
    "    ('Test Accuracy', round(knn_acc_test*100, 2)),\n",
    "    (\"CV Accuracy\",knn_val*100),\n",
    "    ('Precision', round(precision*100, 2)),\n",
    "    ('Recall', round(recall*100, 2)),\n",
    "    ('F1', round(fscore*100, 2))\n",
    "     ]))\n",
    "\n",
    "# add model to list\n",
    "models.append('KNN')"
   ]
  },
  {
   "cell_type": "markdown",
   "id": "a8927393",
   "metadata": {},
   "source": [
    "## Bagging"
   ]
  },
  {
   "cell_type": "code",
   "execution_count": 49,
   "id": "cdee7477",
   "metadata": {},
   "outputs": [
    {
     "name": "stdout",
     "output_type": "stream",
     "text": [
      "Train Accuracy Score of Bagged Decision Trees: % 82.82\n",
      "Test Accuracy Score of Bagged Decision Trees: % 77.77\n",
      "Precision : 0.682191870695543\n",
      "Recall    : 0.5870830497574663\n",
      "F1-score   : 0.5959253100076951\n"
     ]
    },
    {
     "data": {
      "image/png": "[encoded data removed]",
      "text/plain": [
       "<Figure size 720x504 with 2 Axes>"
      ]
     },
     "metadata": {
      "needs_background": "light"
     },
     "output_type": "display_data"
    }
   ],
   "source": [
    "num_estimator = 100\n",
    "seed = 7\n",
    "bag = BaggingClassifier(base_estimator=DecisionTreeClassifier(), n_estimators=num_estimator,\n",
    "    bootstrap=True, n_jobs=-1, random_state=seed)\n",
    "\n",
    "bag.fit(X_train, y_train)\n",
    "y_pred = bag.predict(X_test)\n",
    "\n",
    "bag_acc = round(bag.score(X_train, y_train) * 100, 2)\n",
    "bag_acc_test = round(accuracy_score(y_test, y_pred) * 100, 2)\n",
    "\n",
    "print(f'Train Accuracy Score of Bagged Decision Trees: % {bag_acc}')\n",
    "print(f'Test Accuracy Score of Bagged Decision Trees: % {bag_acc_test}')\n",
    "\n",
    "# Get precision, recall, f1 scores\n",
    "precision, recall, f1score, support = score(y_test, y_pred, average='macro')\n",
    "print(f'Precision : {precision}')\n",
    "print(f'Recall    : {recall}')\n",
    "print(f'F1-score   : {f1score}')\n",
    "\n",
    "\n",
    "conf_mat = confusion_matrix(y_true=y_test, y_pred=y_pred)\n",
    "cm = print_confusion_matrix(conf_mat, ['satisfied', 'not satisfied'])"
   ]
  },
  {
   "cell_type": "code",
   "execution_count": 50,
   "id": "f4e86693",
   "metadata": {},
   "outputs": [],
   "source": [
    "bag_val = model_selection.cross_val_score(bag, X_train, y_train, cv=3).mean()"
   ]
  },
  {
   "cell_type": "code",
   "execution_count": 51,
   "id": "535a28f6",
   "metadata": {},
   "outputs": [],
   "source": [
    "perform_list.append(dict([\n",
    "    ('Model', 'Bagging Classifier'),\n",
    "    ('Train Accuracy', round(bag_acc, 2)),\n",
    "    ('Test Accuracy', round(bag_acc_test, 2)),\n",
    "    (\"CV Accuracy\",bag_val*100),\n",
    "    ('Precision', round(precision*100, 2)),\n",
    "    ('Recall', round(recall*100, 2)),\n",
    "    ('F1', round(fscore*100, 2))\n",
    "     ]))\n",
    "\n",
    "# add model to list\n",
    "models.append('Bagging Classifier')"
   ]
  },
  {
   "cell_type": "markdown",
   "id": "10525738",
   "metadata": {},
   "source": [
    "## ExtraTree"
   ]
  },
  {
   "cell_type": "code",
   "execution_count": 52,
   "id": "9cca0987",
   "metadata": {},
   "outputs": [
    {
     "name": "stdout",
     "output_type": "stream",
     "text": [
      "Train Accuracy Score of Extra Trees: % 82.82\n",
      "Test Accuracy Score of Extra Trees: % 77.9\n",
      "Precision : 0.6878553933588005\n",
      "Recall    : 0.5830192842093276\n",
      "F1-score   : 0.5903084220329833\n"
     ]
    },
    {
     "data": {
      "image/png": "[encoded data removed]",
      "text/plain": [
       "<Figure size 720x504 with 2 Axes>"
      ]
     },
     "metadata": {
      "needs_background": "light"
     },
     "output_type": "display_data"
    }
   ],
   "source": [
    "etc = ExtraTreesClassifier(n_estimators=num_estimator)\n",
    "etc.fit(X_train, y_train)\n",
    "y_pred = etc.predict(X_test)\n",
    "\n",
    "etc_acc = round(etc.score(X_train, y_train) * 100, 2)\n",
    "etc_acc_test = round(accuracy_score(y_test, y_pred) * 100, 2)\n",
    "\n",
    "print(f'Train Accuracy Score of Extra Trees: % {etc_acc}')\n",
    "print(f'Test Accuracy Score of Extra Trees: % {etc_acc_test}')\n",
    "\n",
    "# Get precision, recall, f1 scores\n",
    "precision, recall, f1score, support = score(y_test, y_pred, average='macro')\n",
    "print(f'Precision : {precision}')\n",
    "print(f'Recall    : {recall}')\n",
    "print(f'F1-score   : {f1score}')\n",
    "\n",
    "conf_mat = confusion_matrix(y_true=y_test, y_pred=y_pred)\n",
    "cm = print_confusion_matrix(conf_mat, ['satisfied', 'not satisfied'])"
   ]
  },
  {
   "cell_type": "code",
   "execution_count": 53,
   "id": "9d63dddd",
   "metadata": {},
   "outputs": [],
   "source": [
    "etc_val = model_selection.cross_val_score(etc, X_train, y_train, cv=5).mean()"
   ]
  },
  {
   "cell_type": "code",
   "execution_count": 54,
   "id": "dfdca8be",
   "metadata": {},
   "outputs": [],
   "source": [
    "perform_list.append(dict([\n",
    "    ('Model', 'Extra Tree'),\n",
    "    ('Train Accuracy', round(etc_acc, 2)),\n",
    "    ('Test Accuracy', round(etc_acc_test, 2)),\n",
    "    (\"CV Accuracy\",etc_val*100),\n",
    "    ('Precision', round(precision*100, 2)),\n",
    "    ('Recall', round(recall*100, 2)),\n",
    "    ('F1', round(fscore*100, 2))\n",
    "     ]))\n",
    "\n",
    "# add model to list\n",
    "models.append('Extra Tree Classifier')"
   ]
  },
  {
   "cell_type": "markdown",
   "id": "19a11779",
   "metadata": {},
   "source": [
    "## AdaBoost"
   ]
  },
  {
   "cell_type": "code",
   "execution_count": 55,
   "id": "ca7b70b0",
   "metadata": {},
   "outputs": [
    {
     "name": "stdout",
     "output_type": "stream",
     "text": [
      "Train Accuracy Score of AdaBoostClassifier: % 82.82\n",
      "Test Accuracy Score of AdaBoostClassifier: % 77.51\n",
      "Precision : 0.6748133950951791\n",
      "Recall    : 0.5819838019617519\n",
      "F1-score   : 0.5891944583216562\n"
     ]
    },
    {
     "data": {
      "image/png": "[encoded data removed]",
      "text/plain": [
       "<Figure size 720x504 with 2 Axes>"
      ]
     },
     "metadata": {
      "needs_background": "light"
     },
     "output_type": "display_data"
    }
   ],
   "source": [
    "abc = AdaBoostClassifier(base_estimator=DecisionTreeClassifier(), n_estimators=num_estimator, random_state = seed)\n",
    "abc.fit(X_train, y_train)\n",
    "y_pred = abc.predict(X_test)\n",
    "\n",
    "abc_acc = round(abc.score(X_train, y_train) *100 , 2)\n",
    "abc_acc_test = round(accuracy_score(y_test, y_pred) * 100 ,2)\n",
    "\n",
    "print(f'Train Accuracy Score of AdaBoostClassifier: % {abc_acc}')\n",
    "print(f'Test Accuracy Score of AdaBoostClassifier: % {abc_acc_test}')\n",
    "\n",
    "# Get precision, recall, f1 scores\n",
    "precision, recall, f1score, support = score(y_test, y_pred, average='macro')\n",
    "print(f'Precision : {precision}')\n",
    "print(f'Recall    : {recall}')\n",
    "print(f'F1-score   : {f1score}')\n",
    "\n",
    "conf_mat = confusion_matrix(y_true=y_test, y_pred=y_pred)\n",
    "cm = print_confusion_matrix(conf_mat, ['satisfied', 'not satisfied'])"
   ]
  },
  {
   "cell_type": "code",
   "execution_count": 56,
   "id": "9304fb5c",
   "metadata": {},
   "outputs": [],
   "source": [
    "abc_val = model_selection.cross_val_score(abc, X_train, y_train, cv=5).mean()"
   ]
  },
  {
   "cell_type": "code",
   "execution_count": 57,
   "id": "5a2ccdf3",
   "metadata": {},
   "outputs": [],
   "source": [
    "perform_list.append(dict([\n",
    "    ('Model', 'AdaBoost'),\n",
    "    ('Train Accuracy', round(abc_acc, 2)),\n",
    "    ('Test Accuracy', round(abc_acc_test, 2)),\n",
    "    (\"CV Accuracy\",abc_val*100),\n",
    "    ('Precision', round(precision*100, 2)),\n",
    "    ('Recall', round(recall*100, 2)),\n",
    "    ('F1', round(fscore*100, 2))\n",
    "     ]))\n",
    "\n",
    "# add model to list\n",
    "models.append('AdaBoost')"
   ]
  },
  {
   "cell_type": "markdown",
   "id": "3192744e",
   "metadata": {},
   "source": [
    "## Gradient Boosting"
   ]
  },
  {
   "cell_type": "code",
   "execution_count": 58,
   "id": "6fc8c78d",
   "metadata": {},
   "outputs": [
    {
     "name": "stdout",
     "output_type": "stream",
     "text": [
      "Train Accuracy Score of GradientBoostingClassifier: % 78.38\n",
      "Test Accuracy Score of GradientBoostingClassifier: % 78.24\n",
      "Precision : 0.7513418688436374\n",
      "Recall    : 0.5520205334009768\n",
      "F1-score   : 0.5385409366444845\n"
     ]
    },
    {
     "data": {
      "image/png": "[encoded data removed]",
      "text/plain": [
       "<Figure size 720x504 with 2 Axes>"
      ]
     },
     "metadata": {
      "needs_background": "light"
     },
     "output_type": "display_data"
    }
   ],
   "source": [
    "gbc = GradientBoostingClassifier(n_estimators=num_estimator, learning_rate=0.01, random_state=seed)\n",
    "gbc.fit(X_train, y_train)\n",
    "y_pred = gbc.predict(X_test)\n",
    "\n",
    "gbc_acc = round(gbc.score(X_train, y_train) * 100, 2)\n",
    "gbc_acc_test = round(accuracy_score(y_test, y_pred) * 100, 2)\n",
    "\n",
    "print(f'Train Accuracy Score of GradientBoostingClassifier: % {gbc_acc}')\n",
    "print(f'Test Accuracy Score of GradientBoostingClassifier: % {gbc_acc_test}')\n",
    "\n",
    "# Get precision, recall, f1 scores\n",
    "precision, recall, f1score, support = score(y_test, y_pred, average='macro')\n",
    "print(f'Precision : {precision}')\n",
    "print(f'Recall    : {recall}')\n",
    "print(f'F1-score   : {f1score}')\n",
    "\n",
    "conf_mat = confusion_matrix(y_true=y_test, y_pred=y_pred)\n",
    "cm = print_confusion_matrix(conf_mat, ['satisfied', 'not satisfied'])"
   ]
  },
  {
   "cell_type": "code",
   "execution_count": 59,
   "id": "1e900297",
   "metadata": {},
   "outputs": [],
   "source": [
    "gbc_val = model_selection.cross_val_score(gbc, X_train, y_train, cv=5).mean()"
   ]
  },
  {
   "cell_type": "code",
   "execution_count": 60,
   "id": "9ef6a549",
   "metadata": {},
   "outputs": [],
   "source": [
    "perform_list.append(dict([\n",
    "    ('Model', 'Gradient Boosting'),\n",
    "    ('Train Accuracy', round(gbc_acc, 2)),\n",
    "    ('Test Accuracy', round(gbc_acc_test, 2)),\n",
    "    (\"CV Accuracy\",gbc_val*100),\n",
    "    ('Precision', round(precision*100, 2)),\n",
    "    ('Recall', round(recall*100, 2)),\n",
    "    ('F1', round(fscore*100, 2))\n",
    "     ]))\n",
    "\n",
    "# add model to list\n",
    "models.append('Gradient Boosting')"
   ]
  },
  {
   "cell_type": "markdown",
   "id": "261adc91",
   "metadata": {},
   "source": [
    "## Gaussian Naive Bayes"
   ]
  },
  {
   "cell_type": "code",
   "execution_count": 61,
   "id": "c430a7d9",
   "metadata": {},
   "outputs": [
    {
     "name": "stdout",
     "output_type": "stream",
     "text": [
      "Train Accuracy Score of GaussianNB: % 76.89\n",
      "Test Accuracy Score of GaussianNB: % 76.55\n",
      "Precision : 0.6327959363957597\n",
      "Recall    : 0.5001306726288273\n",
      "F1-score   : 0.43397243265748037\n"
     ]
    },
    {
     "data": {
      "image/png": "[encoded data removed]",
      "text/plain": [
       "<Figure size 720x504 with 2 Axes>"
      ]
     },
     "metadata": {
      "needs_background": "light"
     },
     "output_type": "display_data"
    }
   ],
   "source": [
    "nb_g=GaussianNB()\n",
    "nb_g.fit(X_train, y_train)\n",
    "y_pred = nb_g.predict(X_test)\n",
    "\n",
    "nbg_acc=round(nb_g.score(X_train, y_train) * 100, 2)\n",
    "nbg_acc_test=round(accuracy_score(y_test, y_pred) * 100, 2)\n",
    "\n",
    "print(f'Train Accuracy Score of GaussianNB: % {nbg_acc}')\n",
    "print(f'Test Accuracy Score of GaussianNB: % {nbg_acc_test}')\n",
    "\n",
    "# Get precision, recall, f1 scores\n",
    "precision, recall, f1score, support = score(y_test, y_pred, average='macro')\n",
    "print(f'Precision : {precision}')\n",
    "print(f'Recall    : {recall}')\n",
    "print(f'F1-score   : {f1score}')\n",
    "\n",
    "conf_mat = confusion_matrix(y_true=y_test, y_pred=y_pred)\n",
    "cm = print_confusion_matrix(conf_mat, ['satisfied', 'not satisfied'])"
   ]
  },
  {
   "cell_type": "code",
   "execution_count": 62,
   "id": "620977be",
   "metadata": {},
   "outputs": [],
   "source": [
    "nb_g_val = model_selection.cross_val_score(nb_g, X_train, y_train, cv=kf).mean()"
   ]
  },
  {
   "cell_type": "code",
   "execution_count": 63,
   "id": "2dea2d03",
   "metadata": {},
   "outputs": [],
   "source": [
    "perform_list.append(dict([\n",
    "    ('Model', 'GaussianNB'),\n",
    "    ('Train Accuracy', round(nbg_acc, 2)),\n",
    "    ('Test Accuracy', round(nbg_acc_test, 2)),\n",
    "    (\"CV Accuracy\",nb_g_val*100),\n",
    "    ('Precision', round(precision*100, 2)),\n",
    "    ('Recall', round(recall*100, 2)),\n",
    "    ('F1', round(fscore*100, 2))\n",
    "     ]))\n",
    "\n",
    "# add model to list\n",
    "models.append('GaussianNB')"
   ]
  },
  {
   "cell_type": "markdown",
   "id": "e21ec017",
   "metadata": {},
   "source": [
    " ## Bernoulli"
   ]
  },
  {
   "cell_type": "code",
   "execution_count": 64,
   "id": "bd7e3e74",
   "metadata": {},
   "outputs": [
    {
     "name": "stdout",
     "output_type": "stream",
     "text": [
      "Train Accuracy Score of BernoulliNB: % 78.62\n",
      "Test Accuracy Score of BernoulliNB: % 78.59\n",
      "Precision : 0.7101883475343602\n",
      "Recall    : 0.59199056431919\n",
      "F1-score   : 0.6022335349785016\n"
     ]
    },
    {
     "data": {
      "image/png": "[encoded data removed]",
      "text/plain": [
       "<Figure size 720x504 with 2 Axes>"
      ]
     },
     "metadata": {
      "needs_background": "light"
     },
     "output_type": "display_data"
    }
   ],
   "source": [
    "nb_b=BernoulliNB()\n",
    "nb_b.fit(X_train, y_train)\n",
    "y_pred = nb_b.predict(X_test)\n",
    "\n",
    "nbb_acc=round(nb_b.score(X_train, y_train) * 100, 2)\n",
    "nbb_acc_test=round(accuracy_score(y_test, y_pred) * 100, 2)\n",
    "\n",
    "print(f'Train Accuracy Score of BernoulliNB: % {nbb_acc}')\n",
    "print(f'Test Accuracy Score of BernoulliNB: % {nbb_acc_test}')\n",
    "\n",
    "# Get precision, recall, f1 scores\n",
    "precision, recall, f1score, support = score(y_test, y_pred, average='macro')\n",
    "print(f'Precision : {precision}')\n",
    "print(f'Recall    : {recall}')\n",
    "print(f'F1-score   : {f1score}')\n",
    "\n",
    "\n",
    "conf_mat = confusion_matrix(y_true=y_test, y_pred=y_pred)\n",
    "cm = print_confusion_matrix(conf_mat, ['satisfied', 'not satisfied'])"
   ]
  },
  {
   "cell_type": "code",
   "execution_count": 65,
   "id": "6347bec3",
   "metadata": {},
   "outputs": [],
   "source": [
    "nb_b_val = model_selection.cross_val_score(nb_b, X_train, y_train, cv=kf,).mean()"
   ]
  },
  {
   "cell_type": "code",
   "execution_count": 66,
   "id": "39734922",
   "metadata": {},
   "outputs": [],
   "source": [
    "perform_list.append(dict([\n",
    "    ('Model', 'BernoulliNB'),\n",
    "    ('Train Accuracy', round(nbg_acc, 2)),\n",
    "    ('Test Accuracy', round(nbg_acc_test, 2)),\n",
    "    (\"CV Accuracy\",nb_g_val*100),\n",
    "    ('Precision', round(precision*100, 2)),\n",
    "    ('Recall', round(recall*100, 2)),\n",
    "    ('F1', round(fscore*100, 2))\n",
    "     ]))\n",
    "\n",
    "# add model to list\n",
    "models.append('BernoulliNB')"
   ]
  },
  {
   "cell_type": "markdown",
   "id": "2287e6f1",
   "metadata": {},
   "source": [
    "## XGB Classifier"
   ]
  },
  {
   "cell_type": "code",
   "execution_count": 67,
   "id": "ab44f428",
   "metadata": {},
   "outputs": [
    {
     "name": "stdout",
     "output_type": "stream",
     "text": [
      "[14:14:13] WARNING: C:/Users/Administrator/workspace/xgboost-win64_release_1.4.0/src/learner.cc:1095: Starting in XGBoost 1.3.0, the default evaluation metric used with the objective 'binary:logistic' was changed from 'error' to 'logloss'. Explicitly set eval_metric if you'd like to restore the old behavior.\n",
      "Train Accuracy Score of BernoulliNB: % 79.49\n",
      "Test Accuracy Score of BernoulliNB: % 78.49\n",
      "Precision : 0.7174409796752325\n",
      "Recall    : 0.5785865852583215\n",
      "F1-score   : 0.5830751851045296\n"
     ]
    },
    {
     "data": {
      "image/png": "[encoded data removed]",
      "text/plain": [
       "<Figure size 720x504 with 2 Axes>"
      ]
     },
     "metadata": {
      "needs_background": "light"
     },
     "output_type": "display_data"
    }
   ],
   "source": [
    "clf = XGBClassifier()\n",
    "clf.fit(X_train, y_train)\n",
    "y_pred = clf.predict(X_test)\n",
    "\n",
    "clf_acc=round(clf.score(X_train, y_train) * 100, 2)\n",
    "clf_acc_test=round(accuracy_score(y_test, y_pred) * 100, 2)\n",
    "\n",
    "print(f'Train Accuracy Score of BernoulliNB: % {clf_acc}')\n",
    "print(f'Test Accuracy Score of BernoulliNB: % {clf_acc_test}')\n",
    "\n",
    "# Get precision, recall, f1 scores\n",
    "precision, recall, f1score, support = score(y_test, y_pred, average='macro')\n",
    "print(f'Precision : {precision}')\n",
    "print(f'Recall    : {recall}')\n",
    "print(f'F1-score   : {f1score}')\n",
    "\n",
    "\n",
    "conf_mat = confusion_matrix(y_true=y_test, y_pred=y_pred)\n",
    "cm = print_confusion_matrix(conf_mat, ['satisfied', 'not satisfied'])"
   ]
  },
  {
   "cell_type": "code",
   "execution_count": 68,
   "id": "8b01af4d",
   "metadata": {},
   "outputs": [],
   "source": [
    "perform_list.append(dict([\n",
    "    ('Model', 'XGBClassifier'),\n",
    "    ('Train Accuracy', round(nbg_acc, 2)),\n",
    "    ('Test Accuracy', round(nbg_acc_test, 2)),\n",
    "    (\"CV Accuracy\",nb_g_val*100),\n",
    "    ('Precision', round(precision*100, 2)),\n",
    "    ('Recall', round(recall*100, 2)),\n",
    "    ('F1', round(fscore*100, 2))\n",
    "     ]))\n",
    "\n",
    "# add model to list\n",
    "models.append('XGBClassifier')"
   ]
  },
  {
   "cell_type": "code",
   "execution_count": 69,
   "id": "23a66611",
   "metadata": {},
   "outputs": [
    {
     "data": {
      "text/html": [
       "<div>\n",
       "<style scoped>\n",
       "    .dataframe tbody tr th:only-of-type {\n",
       "        vertical-align: middle;\n",
       "    }\n",
       "\n",
       "    .dataframe tbody tr th {\n",
       "        vertical-align: top;\n",
       "    }\n",
       "\n",
       "    .dataframe thead th {\n",
       "        text-align: right;\n",
       "    }\n",
       "</style>\n",
       "<table border=\"1\" class=\"dataframe\">\n",
       "  <thead>\n",
       "    <tr style=\"text-align: right;\">\n",
       "      <th></th>\n",
       "      <th>Model</th>\n",
       "      <th>Train Accuracy</th>\n",
       "      <th>Test Accuracy</th>\n",
       "      <th>CV Accuracy</th>\n",
       "      <th>Precision</th>\n",
       "      <th>Recall</th>\n",
       "      <th>F1</th>\n",
       "    </tr>\n",
       "  </thead>\n",
       "  <tbody>\n",
       "    <tr>\n",
       "      <th>0</th>\n",
       "      <td>Logistic Regression</td>\n",
       "      <td>79.00</td>\n",
       "      <td>78.58</td>\n",
       "      <td>78.598477</td>\n",
       "      <td>70.98</td>\n",
       "      <td>59.15</td>\n",
       "      <td>60.16</td>\n",
       "    </tr>\n",
       "    <tr>\n",
       "      <th>1</th>\n",
       "      <td>Decision Tree</td>\n",
       "      <td>83.00</td>\n",
       "      <td>77.40</td>\n",
       "      <td>77.613640</td>\n",
       "      <td>67.17</td>\n",
       "      <td>57.92</td>\n",
       "      <td>58.54</td>\n",
       "    </tr>\n",
       "    <tr>\n",
       "      <th>2</th>\n",
       "      <td>Random Forest</td>\n",
       "      <td>82.82</td>\n",
       "      <td>77.85</td>\n",
       "      <td>77.973570</td>\n",
       "      <td>68.46</td>\n",
       "      <td>58.74</td>\n",
       "      <td>59.64</td>\n",
       "    </tr>\n",
       "    <tr>\n",
       "      <th>3</th>\n",
       "      <td>KNN</td>\n",
       "      <td>78.00</td>\n",
       "      <td>75.00</td>\n",
       "      <td>75.746736</td>\n",
       "      <td>61.76</td>\n",
       "      <td>56.76</td>\n",
       "      <td>57.19</td>\n",
       "    </tr>\n",
       "    <tr>\n",
       "      <th>4</th>\n",
       "      <td>Bagging Classifier</td>\n",
       "      <td>82.82</td>\n",
       "      <td>77.77</td>\n",
       "      <td>77.584931</td>\n",
       "      <td>68.22</td>\n",
       "      <td>58.71</td>\n",
       "      <td>57.19</td>\n",
       "    </tr>\n",
       "    <tr>\n",
       "      <th>5</th>\n",
       "      <td>Extra Tree</td>\n",
       "      <td>82.82</td>\n",
       "      <td>77.90</td>\n",
       "      <td>77.965842</td>\n",
       "      <td>68.79</td>\n",
       "      <td>58.30</td>\n",
       "      <td>57.19</td>\n",
       "    </tr>\n",
       "    <tr>\n",
       "      <th>6</th>\n",
       "      <td>AdaBoost</td>\n",
       "      <td>82.82</td>\n",
       "      <td>77.51</td>\n",
       "      <td>77.355285</td>\n",
       "      <td>67.48</td>\n",
       "      <td>58.20</td>\n",
       "      <td>57.19</td>\n",
       "    </tr>\n",
       "    <tr>\n",
       "      <th>7</th>\n",
       "      <td>Gradient Boosting</td>\n",
       "      <td>78.38</td>\n",
       "      <td>78.24</td>\n",
       "      <td>78.424034</td>\n",
       "      <td>75.13</td>\n",
       "      <td>55.20</td>\n",
       "      <td>57.19</td>\n",
       "    </tr>\n",
       "    <tr>\n",
       "      <th>8</th>\n",
       "      <td>GaussianNB</td>\n",
       "      <td>76.89</td>\n",
       "      <td>76.55</td>\n",
       "      <td>76.885902</td>\n",
       "      <td>63.28</td>\n",
       "      <td>50.01</td>\n",
       "      <td>57.19</td>\n",
       "    </tr>\n",
       "    <tr>\n",
       "      <th>9</th>\n",
       "      <td>BernoulliNB</td>\n",
       "      <td>76.89</td>\n",
       "      <td>76.55</td>\n",
       "      <td>76.885902</td>\n",
       "      <td>71.02</td>\n",
       "      <td>59.20</td>\n",
       "      <td>57.19</td>\n",
       "    </tr>\n",
       "    <tr>\n",
       "      <th>10</th>\n",
       "      <td>XGBClassifier</td>\n",
       "      <td>76.89</td>\n",
       "      <td>76.55</td>\n",
       "      <td>76.885902</td>\n",
       "      <td>71.74</td>\n",
       "      <td>57.86</td>\n",
       "      <td>57.19</td>\n",
       "    </tr>\n",
       "  </tbody>\n",
       "</table>\n",
       "</div>"
      ],
      "text/plain": [
       "                  Model  Train Accuracy  Test Accuracy  CV Accuracy  Precision  Recall     F1\n",
       "0   Logistic Regression           79.00          78.58    78.598477      70.98   59.15  60.16\n",
       "1         Decision Tree           83.00          77.40    77.613640      67.17   57.92  58.54\n",
       "2         Random Forest           82.82          77.85    77.973570      68.46   58.74  59.64\n",
       "3                   KNN           78.00          75.00    75.746736      61.76   56.76  57.19\n",
       "4    Bagging Classifier           82.82          77.77    77.584931      68.22   58.71  57.19\n",
       "5            Extra Tree           82.82          77.90    77.965842      68.79   58.30  57.19\n",
       "6              AdaBoost           82.82          77.51    77.355285      67.48   58.20  57.19\n",
       "7     Gradient Boosting           78.38          78.24    78.424034      75.13   55.20  57.19\n",
       "8            GaussianNB           76.89          76.55    76.885902      63.28   50.01  57.19\n",
       "9           BernoulliNB           76.89          76.55    76.885902      71.02   59.20  57.19\n",
       "10        XGBClassifier           76.89          76.55    76.885902      71.74   57.86  57.19"
      ]
     },
     "execution_count": 69,
     "metadata": {},
     "output_type": "execute_result"
    }
   ],
   "source": [
    "model_performance = pd.DataFrame(data=perform_list)\n",
    "model_performance = model_performance[['Model', 'Train Accuracy', 'Test Accuracy','CV Accuracy', 'Precision', 'Recall', 'F1']]\n",
    "model_performance"
   ]
  },
  {
   "cell_type": "code",
   "execution_count": 70,
   "id": "8326c191",
   "metadata": {},
   "outputs": [],
   "source": [
    "from imblearn.over_sampling import SMOTE\n",
    "X_smoted, y_smoted = SMOTE(random_state=42).fit_resample(X,y)"
   ]
  },
  {
   "cell_type": "code",
   "execution_count": 71,
   "id": "f74a5972",
   "metadata": {},
   "outputs": [
    {
     "data": {
      "text/plain": [
       "Counter({1: 86970, 0: 86970})"
      ]
     },
     "execution_count": 71,
     "metadata": {},
     "output_type": "execute_result"
    }
   ],
   "source": [
    "Counter(y_smoted)"
   ]
  },
  {
   "cell_type": "code",
   "execution_count": 72,
   "id": "dbfcd6ac",
   "metadata": {},
   "outputs": [
    {
     "name": "stdout",
     "output_type": "stream",
     "text": [
      "Train Accuracy Score of RandomForest: % 71.46\n",
      "Test Accuracy Score of RandomForest: % 73.28\n",
      "Precision : 0.6580727663217476\n",
      "Recall    : 0.6920154579656762\n",
      "F1-score   : 0.6670864992462873\n"
     ]
    }
   ],
   "source": [
    "classifier = RandomForestClassifier().fit(X_smoted, y_smoted)\n",
    "clf = RandomForestClassifier()\n",
    "clf.fit(X_smoted, y_smoted)\n",
    "y_pred = clf.predict(X_test)\n",
    "\n",
    "clf_acc=round(clf.score(X_smoted, y_smoted) * 100, 2)\n",
    "clf_acc_test=round(accuracy_score(y_test, y_pred) * 100, 2)\n",
    "\n",
    "\n",
    "print(f'Train Accuracy Score of RandomForest: % {clf_acc}')\n",
    "print(f'Test Accuracy Score of RandomForest: % {clf_acc_test}')\n",
    "\n",
    "# Get precision, recall, f1 scores\n",
    "precision, recall, f1score, support = score(y_test, y_pred, average='macro')\n",
    "print(f'Precision : {precision}')\n",
    "print(f'Recall    : {recall}')\n",
    "print(f'F1-score   : {f1score}')\n"
   ]
  },
  {
   "cell_type": "code",
   "execution_count": 73,
   "id": "2fa3e51c",
   "metadata": {},
   "outputs": [
    {
     "data": {
      "image/png": "[encoded data removed]",
      "text/plain": [
       "<Figure size 720x504 with 2 Axes>"
      ]
     },
     "metadata": {
      "needs_background": "light"
     },
     "output_type": "display_data"
    }
   ],
   "source": [
    "conf_mat = confusion_matrix(y_true=y_test, y_pred=y_pred)\n",
    "cm = print_confusion_matrix(conf_mat, ['satisfied', 'not satisfied'])"
   ]
  },
  {
   "cell_type": "code",
   "execution_count": 74,
   "id": "6a4263ce",
   "metadata": {},
   "outputs": [
    {
     "name": "stdout",
     "output_type": "stream",
     "text": [
      "Fitting 3 folds for each of 100 candidates, totalling 300 fits\n"
     ]
    },
    {
     "data": {
      "text/plain": [
       "RandomizedSearchCV(cv=3, estimator=RandomForestClassifier(), n_iter=100,\n",
       "                   n_jobs=-1,\n",
       "                   param_distributions={'bootstrap': [True, False],\n",
       "                                        'max_depth': [1, None],\n",
       "                                        'max_features': ['auto', 'sqrt'],\n",
       "                                        'min_samples_leaf': [1, 2, 3, 4],\n",
       "                                        'min_samples_split': [2, 3, 4, 5, 10],\n",
       "                                        'n_estimators': [80, 293, 506, 720, 933,\n",
       "                                                         1146, 1360, 1573, 1786,\n",
       "                                                         2000]},\n",
       "                   random_state=42, verbose=2)"
      ]
     },
     "execution_count": 74,
     "metadata": {},
     "output_type": "execute_result"
    }
   ],
   "source": [
    "# Number of trees in the ensamble\n",
    "n_estimators = [int(x) for x in np.linspace(start = 80, stop = 2000, num = 10)]\n",
    "# MAX FEATURES to be utilized in every split\n",
    "max_features = ['auto', 'sqrt']\n",
    "# DEPTH of Tree\n",
    "max_depth = [int(x) for x in np.linspace(1, 20, num = 1)]\n",
    "max_depth.append(None)\n",
    "# Minimum nymber of samples to use to form a node\n",
    "min_samples_split = [2, 3, 4, 5, 10]\n",
    "# Minimum number of samples required at each leaf node\n",
    "min_samples_leaf = [1, 2, 3, 4]\n",
    "# Method of selecting samples for training each tree\n",
    "bootstrap = [True, False]# Create the random grid\n",
    "random_grid = {'n_estimators': n_estimators,\n",
    "               'max_features': max_features,\n",
    "               'max_depth': max_depth,\n",
    "               'min_samples_split': min_samples_split,\n",
    "               'min_samples_leaf': min_samples_leaf,\n",
    "               'bootstrap': bootstrap}\n",
    "\n",
    "\n",
    "\n",
    "ex = RandomForestClassifier()\n",
    "\n",
    "ex_random = RandomizedSearchCV(estimator = ex, param_distributions = random_grid, n_iter = 100, cv = 3, verbose=2, random_state=42, n_jobs = -1)# Fit the random search model\n",
    "ex_random.fit(X_smoted, y_smoted)"
   ]
  },
  {
   "cell_type": "code",
   "execution_count": 75,
   "id": "cc618758",
   "metadata": {},
   "outputs": [
    {
     "data": {
      "text/plain": [
       "{'n_estimators': 1146,\n",
       " 'min_samples_split': 2,\n",
       " 'min_samples_leaf': 1,\n",
       " 'max_features': 'auto',\n",
       " 'max_depth': None,\n",
       " 'bootstrap': False}"
      ]
     },
     "execution_count": 75,
     "metadata": {},
     "output_type": "execute_result"
    }
   ],
   "source": [
    "ex_random.best_params_"
   ]
  },
  {
   "cell_type": "code",
   "execution_count": 78,
   "id": "5ec050cc",
   "metadata": {},
   "outputs": [
    {
     "name": "stdout",
     "output_type": "stream",
     "text": [
      "Train Accuracy score : 0.71\n",
      "Test Accuracy score : 0.74\n"
     ]
    },
    {
     "data": {
      "image/png": "[encoded data removed]",
      "text/plain": [
       "<Figure size 720x504 with 2 Axes>"
      ]
     },
     "metadata": {
      "needs_background": "light"
     },
     "output_type": "display_data"
    }
   ],
   "source": [
    "random_forest = RandomForestClassifier(bootstrap=False,\n",
    " max_depth= None,\n",
    " max_features='auto',\n",
    " min_samples_leaf= 1,\n",
    " min_samples_split= 2,\n",
    " n_estimators= 1146)\n",
    "random_forest.fit(X_smoted, y_smoted)\n",
    "\n",
    "y_pred = random_forest.predict(X_test)\n",
    "\n",
    "random_forest.score(X_smoted, y_smoted)\n",
    "acc_random_forest = round(random_forest.score(X_smoted, y_smoted), 2)\n",
    "\n",
    "print(\"Train Accuracy score :\",acc_random_forest)\n",
    "print(\"Test Accuracy score :\",  round(random_forest.score(X_test, y_test), 2))\n",
    "\n",
    "\n",
    "conf_mat = confusion_matrix(y_true=y_test, y_pred=y_pred)   \n",
    "                                                          \n",
    "cm = print_confusion_matrix(conf_mat, ['satisfied', 'not satisfied'])"
   ]
  },
  {
   "cell_type": "code",
   "execution_count": 90,
   "id": "d478756d",
   "metadata": {},
   "outputs": [
    {
     "data": {
      "text/html": [
       "<div>\n",
       "<style scoped>\n",
       "    .dataframe tbody tr th:only-of-type {\n",
       "        vertical-align: middle;\n",
       "    }\n",
       "\n",
       "    .dataframe tbody tr th {\n",
       "        vertical-align: top;\n",
       "    }\n",
       "\n",
       "    .dataframe thead th {\n",
       "        text-align: right;\n",
       "    }\n",
       "</style>\n",
       "<table border=\"1\" class=\"dataframe\">\n",
       "  <thead>\n",
       "    <tr style=\"text-align: right;\">\n",
       "      <th></th>\n",
       "      <th>importance</th>\n",
       "    </tr>\n",
       "    <tr>\n",
       "      <th>feature</th>\n",
       "      <th></th>\n",
       "    </tr>\n",
       "  </thead>\n",
       "  <tbody>\n",
       "    <tr>\n",
       "      <th>product_photos_qty</th>\n",
       "      <td>0.237</td>\n",
       "    </tr>\n",
       "    <tr>\n",
       "      <th>seller_count</th>\n",
       "      <td>0.173</td>\n",
       "    </tr>\n",
       "    <tr>\n",
       "      <th>delivery</th>\n",
       "      <td>0.170</td>\n",
       "    </tr>\n",
       "    <tr>\n",
       "      <th>different_between_approved_purchase</th>\n",
       "      <td>0.159</td>\n",
       "    </tr>\n",
       "    <tr>\n",
       "      <th>price</th>\n",
       "      <td>0.109</td>\n",
       "    </tr>\n",
       "    <tr>\n",
       "      <th>delivered_hour_evening</th>\n",
       "      <td>0.018</td>\n",
       "    </tr>\n",
       "    <tr>\n",
       "      <th>delivered_hour_midday</th>\n",
       "      <td>0.018</td>\n",
       "    </tr>\n",
       "    <tr>\n",
       "      <th>payment_type_credit_card</th>\n",
       "      <td>0.017</td>\n",
       "    </tr>\n",
       "    <tr>\n",
       "      <th>delivered_season_winter</th>\n",
       "      <td>0.017</td>\n",
       "    </tr>\n",
       "    <tr>\n",
       "      <th>payment_type_boleto</th>\n",
       "      <td>0.016</td>\n",
       "    </tr>\n",
       "    <tr>\n",
       "      <th>delivered_hour_night</th>\n",
       "      <td>0.016</td>\n",
       "    </tr>\n",
       "    <tr>\n",
       "      <th>payment_type_voucher</th>\n",
       "      <td>0.014</td>\n",
       "    </tr>\n",
       "    <tr>\n",
       "      <th>delivered_season_summer</th>\n",
       "      <td>0.014</td>\n",
       "    </tr>\n",
       "    <tr>\n",
       "      <th>delivered_hour_morning</th>\n",
       "      <td>0.013</td>\n",
       "    </tr>\n",
       "    <tr>\n",
       "      <th>payment_type_debit_card</th>\n",
       "      <td>0.008</td>\n",
       "    </tr>\n",
       "    <tr>\n",
       "      <th>order_status_delivered</th>\n",
       "      <td>0.000</td>\n",
       "    </tr>\n",
       "    <tr>\n",
       "      <th>order_status_canceled</th>\n",
       "      <td>0.000</td>\n",
       "    </tr>\n",
       "  </tbody>\n",
       "</table>\n",
       "</div>"
      ],
      "text/plain": [
       "                                     importance\n",
       "feature                                        \n",
       "product_photos_qty                        0.237\n",
       "seller_count                              0.173\n",
       "delivery                                  0.170\n",
       "different_between_approved_purchase       0.159\n",
       "price                                     0.109\n",
       "delivered_hour_evening                    0.018\n",
       "delivered_hour_midday                     0.018\n",
       "payment_type_credit_card                  0.017\n",
       "delivered_season_winter                   0.017\n",
       "payment_type_boleto                       0.016\n",
       "delivered_hour_night                      0.016\n",
       "payment_type_voucher                      0.014\n",
       "delivered_season_summer                   0.014\n",
       "delivered_hour_morning                    0.013\n",
       "payment_type_debit_card                   0.008\n",
       "order_status_delivered                    0.000\n",
       "order_status_canceled                     0.000"
      ]
     },
     "execution_count": 90,
     "metadata": {},
     "output_type": "execute_result"
    }
   ],
   "source": [
    "col_imp = random_forest.feature_importances_\n",
    "\n",
    "importances = pd.DataFrame({'feature':(dataFrame.drop(columns=[\"review_score\"])).columns,'importance':np.round(col_imp,3)})\n",
    "importances = importances.sort_values('importance',ascending=False).set_index('feature')\n",
    "importances.head(18)"
   ]
  },
  {
   "cell_type": "code",
   "execution_count": 79,
   "id": "76ca155b",
   "metadata": {},
   "outputs": [
    {
     "name": "stdout",
     "output_type": "stream",
     "text": [
      "Train Accuracy score : 0.7146487294469357\n",
      "Test Accuracy score : 0.7399752693870341\n",
      "Precision : 0.660133630412997\n",
      "Recall    : 0.6883250373526938\n",
      "F1-score   : 0.6690961957303638\n"
     ]
    }
   ],
   "source": [
    "acc_random_forest = random_forest.score(X_smoted, y_smoted)\n",
    "\n",
    "print(\"Train Accuracy score :\",acc_random_forest)\n",
    "print(\"Test Accuracy score :\",  random_forest.score(X_test, y_test))\n",
    "precision, recall, f1score, support = score(y_test, y_pred, average='macro')\n",
    "print(f'Precision : {precision}')\n",
    "print(f'Recall    : {recall}')\n",
    "print(f'F1-score   : {f1score}')"
   ]
  },
  {
   "cell_type": "code",
   "execution_count": 80,
   "id": "55312214",
   "metadata": {},
   "outputs": [],
   "source": [
    "# Precision = TP / (TP + FP)\n",
    "# Recall = TP/P = True positive rate\n",
    "# false positive rate = FP / true negatives = FP / (FP + TN) \n",
    "from sklearn.metrics import roc_auc_score, roc_curve\n",
    "\n",
    "fpr, tpr, thresholds = roc_curve(y_smoted, clf.predict_proba(X_smoted)[:,1])"
   ]
  },
  {
   "cell_type": "code",
   "execution_count": 87,
   "id": "4ecc3d6e",
   "metadata": {},
   "outputs": [
    {
     "name": "stdout",
     "output_type": "stream",
     "text": [
      "ROC AUC score =  0.8118017303356844\n"
     ]
    },
    {
     "data": {
      "image/png": "[encoded data removed]",
      "text/plain": [
       "<Figure size 1000x700 with 1 Axes>"
      ]
     },
     "metadata": {},
     "output_type": "display_data"
    }
   ],
   "source": [
    "plt.figure(figsize=(10,7),dpi=100),\n",
    "plt.plot(fpr, tpr,lw=2)\n",
    "plt.plot([0,1],[0,1],c='violet',ls='--')\n",
    "plt.xlim([-0.05,1.05])\n",
    "plt.ylim([-0.05,1.05])\n",
    "plt.style.use('default')\n",
    "plt.xlabel('False positive rate')\n",
    "plt.ylabel('True positive rate')\n",
    "plt.title('ROC curve');\n",
    "print(\"ROC AUC score = \", roc_auc_score(y_smoted, clf.predict_proba(X_smoted)[:,1]))"
   ]
  },
  {
   "cell_type": "code",
   "execution_count": 89,
   "id": "558593b0",
   "metadata": {},
   "outputs": [
    {
     "data": {
      "image/png": "[encoded data removed]",
      "text/plain": [
       "<Figure size 1000x700 with 1 Axes>"
      ]
     },
     "metadata": {},
     "output_type": "display_data"
    }
   ],
   "source": [
    "# We can also use the probabilities to make a curve showing us how recall \n",
    "# and thresholds trade off \n",
    "\n",
    "from sklearn.metrics import precision_score, recall_score, precision_recall_curve,f1_score, fbeta_score\n",
    "\n",
    "\n",
    "precision_curve, recall_curve, threshold_curve = precision_recall_curve(y_smoted, clf.predict_proba(X_smoted)[:,1] )\n",
    "\n",
    "plt.figure(figsize=(10,7),dpi=100),\n",
    "plt.style.use('default')\n",
    "plt.plot(threshold_curve, precision_curve[1:],label='precision')\n",
    "plt.plot(threshold_curve, recall_curve[1:], label='recall')\n",
    "plt.legend(loc='lower left')\n",
    "plt.xlabel('Threshold (above this probability');\n",
    "plt.title('Precision and Recall Curves');"
   ]
  },
  {
   "cell_type": "code",
   "execution_count": null,
   "id": "8d0f64ab",
   "metadata": {},
   "outputs": [],
   "source": []
  }
 ],
 "metadata": {
  "kernelspec": {
   "display_name": "Python 3",
   "language": "python",
   "name": "python3"
  },
  "language_info": {
   "codemirror_mode": {
    "name": "ipython",
    "version": 3
   },
   "file_extension": ".py",
   "mimetype": "text/x-python",
   "name": "python",
   "nbconvert_exporter": "python",
   "pygments_lexer": "ipython3",
   "version": "3.8.8"
  }
 },
 "nbformat": 4,
 "nbformat_minor": 5
}
